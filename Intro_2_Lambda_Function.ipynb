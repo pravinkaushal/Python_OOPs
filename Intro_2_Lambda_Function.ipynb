{
 "cells": [
  {
   "cell_type": "markdown",
   "id": "8f4286d9",
   "metadata": {},
   "source": [
    "Lambda function in Python is a small anonymous function. It is used when user needs a quick function for a short period and don't want to formally define it using 'def' keyword.\n",
    "\n",
    "Syntax:-\n",
    "\n",
    "lambda arguments: expression"
   ]
  },
  {
   "cell_type": "code",
   "execution_count": null,
   "id": "986c85ee",
   "metadata": {},
   "outputs": [
    {
     "name": "stdout",
     "output_type": "stream",
     "text": [
      "81\n"
     ]
    }
   ],
   "source": [
    "# lambda function to square an element.\n",
    "square = lambda x: x**2\n",
    "\n",
    "print(square(9))\n"
   ]
  },
  {
   "cell_type": "code",
   "execution_count": 6,
   "id": "bd5ae624",
   "metadata": {},
   "outputs": [
    {
     "name": "stdout",
     "output_type": "stream",
     "text": [
      "99\n"
     ]
    }
   ],
   "source": [
    "# lembda function for sum of cubes of 3 elements\n",
    "sum_of_cubes = lambda a,b,c: a**3 + b**3 + c**3\n",
    "\n",
    "print(sum_of_cubes(2,3,4))"
   ]
  },
  {
   "cell_type": "markdown",
   "id": "813188cb",
   "metadata": {},
   "source": [
    "To do any operation on sequence i.e. list/set etc we can use Map/Reduce/Filter etc functions e.g. below."
   ]
  },
  {
   "cell_type": "code",
   "execution_count": 11,
   "id": "5e3ae6a1",
   "metadata": {},
   "outputs": [
    {
     "name": "stdout",
     "output_type": "stream",
     "text": [
      "[10, 11]\n"
     ]
    }
   ],
   "source": [
    "list1 = [2, 3, 5, 10, 11]\n",
    "\n",
    "# Filter using lambda function\n",
    "filtered_list2 = list(filter(lambda x: x>=10, list1))\n",
    "print(filtered_list2)"
   ]
  },
  {
   "cell_type": "code",
   "execution_count": null,
   "id": "3fe747b0",
   "metadata": {},
   "outputs": [
    {
     "name": "stdout",
     "output_type": "stream",
     "text": [
      "[10, 11]\n"
     ]
    }
   ],
   "source": [
    "# Above filter code is equivalent to\n",
    "\n",
    "lambdafunc1 = lambda x: x>=10\n",
    "filter1 = filter(lambdafunc1, list1)\n",
    "filter1_list = list(filter1)\n",
    "print(filter1_list)"
   ]
  },
  {
   "cell_type": "code",
   "execution_count": 13,
   "id": "7b7941e3",
   "metadata": {},
   "outputs": [
    {
     "name": "stdout",
     "output_type": "stream",
     "text": [
      "Cubes of elements in list1 using lembda function are: [8, 27, 125, 1000, 1331]\n"
     ]
    }
   ],
   "source": [
    "# Map using lambda function\n",
    "cubed_using_lembda = list(map(lambda x:x**3, list1))\n",
    "print(f'Cubes of elements in list1 using lembda function are: {cubed_using_lembda}')"
   ]
  }
 ],
 "metadata": {
  "kernelspec": {
   "display_name": "Python 3",
   "language": "python",
   "name": "python3"
  },
  "language_info": {
   "codemirror_mode": {
    "name": "ipython",
    "version": 3
   },
   "file_extension": ".py",
   "mimetype": "text/x-python",
   "name": "python",
   "nbconvert_exporter": "python",
   "pygments_lexer": "ipython3",
   "version": "3.12.0"
  }
 },
 "nbformat": 4,
 "nbformat_minor": 5
}
