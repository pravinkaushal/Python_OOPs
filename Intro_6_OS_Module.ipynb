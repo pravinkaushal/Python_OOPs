{
 "cells": [
  {
   "cell_type": "markdown",
   "id": "f701ed63",
   "metadata": {},
   "source": [
    "OS Module in python is built in library in python which profide functions for interacting with the operating system. It allows you to perform wide variety of tasks, such as reading and writing files, interacting with the file system, and running system components."
   ]
  },
  {
   "cell_type": "code",
   "execution_count": 2,
   "id": "2574303b",
   "metadata": {},
   "outputs": [],
   "source": [
    "import os\n",
    "# os.mkdir(\"os module files/data\")                # Makes a folder \"data\" at given loaction"
   ]
  },
  {
   "cell_type": "code",
   "execution_count": 2,
   "id": "fd3f712f",
   "metadata": {},
   "outputs": [
    {
     "name": "stdout",
     "output_type": "stream",
     "text": [
      "folder exists: False\n"
     ]
    }
   ],
   "source": [
    "# To check if a folder already exists\n",
    "print(f\"folder exists: {os.path.exists(\"os module files/data\")}\")\n",
    "\n",
    "# Make a folder if it doesn't exists\n",
    "if not os.path.exists(\"os module files/data\"):\n",
    "    os.mkdir(\"os module files/data\")"
   ]
  },
  {
   "cell_type": "code",
   "execution_count": 3,
   "id": "9c86ce69",
   "metadata": {},
   "outputs": [],
   "source": [
    "# Make a folder under data folder with 1 to 100 as folder name.\n",
    "\n",
    "for i in range(1,101):\n",
    "    os.mkdir(f\"os module files/data/Day_{i}\")"
   ]
  },
  {
   "cell_type": "code",
   "execution_count": 4,
   "id": "c2648e87",
   "metadata": {},
   "outputs": [],
   "source": [
    "# Remove the folders 11 to 100\n",
    "\n",
    "for i in range(11,101):\n",
    "    os.rmdir(f\"os module files/data/Day_{i}\")"
   ]
  },
  {
   "cell_type": "code",
   "execution_count": 5,
   "id": "22d6afce",
   "metadata": {},
   "outputs": [],
   "source": [
    "# In all above folders create two folders each part1 and part2\n",
    "\n",
    "for i in range(1,11):\n",
    "    for j in range (1,5):\n",
    "        if not os.path.exists(f\"os module files/data/Day_{i}/part_{j}\"):\n",
    "            os.mkdir(f\"os module files/data/Day_{i}/part_{j}\")"
   ]
  },
  {
   "cell_type": "code",
   "execution_count": 6,
   "id": "4fd2d8d6",
   "metadata": {},
   "outputs": [],
   "source": [
    "# In all above folders create two folders each part1 and part2\n",
    "\n",
    "for i in range(1,11):\n",
    "    for j in range (3,5):\n",
    "        if os.path.exists(f\"os module files/data/Day_{i}/part_{j}\"):\n",
    "            os.rmdir(f\"os module files/data/Day_{i}/part_{j}\")"
   ]
  },
  {
   "cell_type": "code",
   "execution_count": 7,
   "id": "2cd31346",
   "metadata": {},
   "outputs": [],
   "source": [
    "# Rename part_1, part_2 to part1, part2 similarly Day_1, Day_2.... to Day1, Day2 etc.\n",
    "\n",
    "# In all above folders create two folders each part1 and part2\n",
    "\n",
    "# for i in range(1,11):\n",
    "#     for j in range (1,3):\n",
    "#         if os.path.exists(f\"os module files/data/Day_{i}/part_{j}\"):\n",
    "#             os.rename(f\"os module files/data/Day_{i}/part_{j}\"  ,   f\"os module files/data/Day_{i}/part{j}\")\n",
    "\n",
    "for i in range(1,11):\n",
    "    if os.path.exists(f\"os module files/data/Day_{i}\"):\n",
    "        os.rename(f\"os module files/data/Day_{i}\"  ,   f\"os module files/data/Day{i}\")"
   ]
  },
  {
   "cell_type": "code",
   "execution_count": 8,
   "id": "9622b120",
   "metadata": {},
   "outputs": [
    {
     "data": {
      "text/plain": [
       "['Day1',\n",
       " 'Day10',\n",
       " 'Day2',\n",
       " 'Day3',\n",
       " 'Day4',\n",
       " 'Day5',\n",
       " 'Day6',\n",
       " 'Day7',\n",
       " 'Day8',\n",
       " 'Day9']"
      ]
     },
     "execution_count": 8,
     "metadata": {},
     "output_type": "execute_result"
    }
   ],
   "source": [
    "folders = list(os.listdir(\"os module files/data\"))\n",
    "folders"
   ]
  },
  {
   "cell_type": "code",
   "execution_count": 10,
   "id": "e22f4454",
   "metadata": {},
   "outputs": [
    {
     "name": "stdout",
     "output_type": "stream",
     "text": [
      "['part_1', 'part_2']\n",
      "['part_1', 'part_2']\n",
      "['part_1', 'part_2']\n",
      "['part_1', 'part_2']\n",
      "['part_1', 'part_2']\n",
      "['part_1', 'part_2']\n",
      "['part_1', 'part_2']\n",
      "['part_1', 'part_2']\n",
      "['part_1', 'part_2']\n",
      "['part_1', 'part_2']\n"
     ]
    }
   ],
   "source": [
    "for folder in folders:\n",
    "    print(list(os.listdir(f\"os module files/data/{folder}\")))"
   ]
  },
  {
   "cell_type": "code",
   "execution_count": 3,
   "id": "c97b726c",
   "metadata": {},
   "outputs": [
    {
     "name": "stdout",
     "output_type": "stream",
     "text": [
      "c:\\Users\\pkaus\\Desktop\\Python\\2_OOPs_SelfLearning\n",
      "c:\\Users\\pkaus\\Desktop\n",
      "c:\\Users\\pkaus\\Desktop\\Python\\2_OOPs_SelfLearning\n"
     ]
    }
   ],
   "source": [
    "print(os.getcwd())                              # current working directory\n",
    "os.chdir(\"c:\\\\Users\\\\pkaus\\\\Desktop\")           # Changes working directory to given location\n",
    "print(os.getcwd())\n",
    "os.chdir(\"c:\\\\Users\\\\pkaus\\\\Desktop\\\\Python\\\\2_OOPs_SelfLearning\")\n",
    "print(os.getcwd())"
   ]
  }
 ],
 "metadata": {
  "kernelspec": {
   "display_name": "Python 3",
   "language": "python",
   "name": "python3"
  },
  "language_info": {
   "codemirror_mode": {
    "name": "ipython",
    "version": 3
   },
   "file_extension": ".py",
   "mimetype": "text/x-python",
   "name": "python",
   "nbconvert_exporter": "python",
   "pygments_lexer": "ipython3",
   "version": "3.12.0"
  }
 },
 "nbformat": 4,
 "nbformat_minor": 5
}
