{
 "cells": [
  {
   "cell_type": "markdown",
   "id": "9316a231",
   "metadata": {},
   "source": [
    "# Map/Filter/Reduce\n",
    "\n",
    "In Python, the map, the filter and the reduce functions are built-in functions which allow user to apply a function to a sequence of elements and returns another sequence. These functions are known as higher order functions as they take another function as arguments."
   ]
  },
  {
   "cell_type": "code",
   "execution_count": null,
   "id": "6369d70a",
   "metadata": {},
   "outputs": [
    {
     "name": "stdout",
     "output_type": "stream",
     "text": [
      "Cubes of elements in list1 using loop are: \t\t[125, 729, 1728, 3375, 2197]\n",
      "Cubes of elements in list1 using function & loop are: \t[125, 729, 1728, 3375, 2197]\n"
     ]
    }
   ],
   "source": [
    "# Suppose I want to cube various elements in a list.\n",
    "# We can do that in multiple way e.g. using function/loop etc. e.g.\n",
    "\n",
    "list1 = [5,9,12,15,13]\n",
    "cubed_using_for_loop = [i**3 for i in list1]                                           # Using for loop\n",
    "print(f'Cubes of elements in list1 using loop are: \\t\\t{cubed_using_for_loop}')\n",
    "# using function\n",
    "\n",
    "def cube(element):\n",
    "    return element**3\n",
    "\n",
    "cubed_using_function = []\n",
    "for i in list1:\n",
    "    cubed_using_function.append(cube(i))\n",
    "print(f'Cubes of elements in list1 using function & loop are: \\t{cubed_using_function}')\n",
    "\n"
   ]
  },
  {
   "cell_type": "markdown",
   "id": "4d53447d",
   "metadata": {},
   "source": [
    "# 1. MAP\n",
    "The map function applies a function to each element in a sequence and returns a new sequence containing the transformed elements.\n",
    "\n",
    "* Syntax:-\n",
    "##### map(function_to_be_mapped, itearble)"
   ]
  },
  {
   "cell_type": "markdown",
   "id": "99754709",
   "metadata": {},
   "source": [
    "### Note: printing map(func, iterable) gives created object's location. To print the object we need to convert that object to a list, e.g. list(map(func, iterable))\n"
   ]
  },
  {
   "cell_type": "code",
   "execution_count": null,
   "id": "fc001e2d",
   "metadata": {},
   "outputs": [
    {
     "name": "stdout",
     "output_type": "stream",
     "text": [
      "<map object at 0x0000014401401900>\n",
      "[125, 729, 1728, 3375, 2197]\n",
      "()\n"
     ]
    }
   ],
   "source": [
    "cubed_using_map = map(cube, list1)\n",
    "\n",
    "print(cubed_using_map)                      # Prints memory location of the new sequence.\n",
    "print(list(cubed_using_map))                # Prints the list form of new sequence."
   ]
  },
  {
   "cell_type": "code",
   "execution_count": 24,
   "id": "dadd076d",
   "metadata": {},
   "outputs": [
    {
     "name": "stdout",
     "output_type": "stream",
     "text": [
      "Cubes of elements in list1 using lembda function are: [125, 729, 1728, 3375, 2197]\n"
     ]
    }
   ],
   "source": [
    "# Map using lambda function\n",
    "cubed_using_lembda = list(map(lambda x:x**3, list1))\n",
    "print(f'Cubes of elements in list1 using lembda function are: {cubed_using_lembda}')"
   ]
  },
  {
   "cell_type": "markdown",
   "id": "5682e569",
   "metadata": {},
   "source": [
    "# 2. FILTER\n",
    "The filter function filters a sequence based on the condition given in the predicate (function which returns True/False i.e boolean value) and returns a new sequence containing only the elements that meets the predicate. The elements in sequence which returns False will be filtered out from new sequence, other will remain in the new sequence.\n",
    "\n",
    "##### Syntax:-\n",
    "map ( predicate or say filtering_function, itearble )"
   ]
  },
  {
   "cell_type": "code",
   "execution_count": 37,
   "id": "45c11253",
   "metadata": {},
   "outputs": [
    {
     "name": "stdout",
     "output_type": "stream",
     "text": [
      "filtered list (i.e. >10) is:\t [10, 15, 12, 17, 19]\n"
     ]
    }
   ],
   "source": [
    "unfiltered_list = [10, 15, 12, 9, 0, 17, 19, -12]\n",
    "\n",
    "def filter_function (element):\n",
    "    return element>=10\n",
    "\n",
    "filtered_list = list(filter(filter_function, unfiltered_list))\n",
    "\n",
    "print(f'filtered list (i.e. >10) is:\\t {filtered_list}')"
   ]
  },
  {
   "cell_type": "code",
   "execution_count": 36,
   "id": "9188d3e1",
   "metadata": {},
   "outputs": [
    {
     "data": {
      "text/plain": [
       "[10, 15, 12, 17, 19]"
      ]
     },
     "execution_count": 36,
     "metadata": {},
     "output_type": "execute_result"
    }
   ],
   "source": [
    "# Filter using lambda function\n",
    "\n",
    "filtered_list2 = list(filter(lambda x: x>=10, unfiltered_list))\n",
    "filtered_list2"
   ]
  },
  {
   "cell_type": "markdown",
   "id": "e0b979b7",
   "metadata": {},
   "source": [
    "# 3. REDUCE\n",
    "* The reduce applies a function to a sequence and returns a single value. It is a part of functools module in Python and has following syntax:\n",
    "\n",
    "* Syntax-->  reduce(function, iterable)\n",
    "\n",
    "* Please note that the input function should take two values (1st two values of the iterable) and returns a single value. Then the returned value (from function) and 3rd value from iterable will be fed to the function and so on, untill there isn't any value left in the iterable. Then the returned value (from function) will be output of the reduce function."
   ]
  },
  {
   "cell_type": "code",
   "execution_count": null,
   "id": "a64aae21",
   "metadata": {},
   "outputs": [
    {
     "name": "stdout",
     "output_type": "stream",
     "text": [
      "66\n"
     ]
    }
   ],
   "source": [
    "from functools import reduce\n",
    "\n",
    "sum_func = lambda a,b: (a + b)*2\n",
    "\n",
    "list01 = [2,3,4,5]\n",
    "\n",
    "# We won't be converting the reduced object to list or any other sequence as it is only single value, not any list.\n",
    "reduced_list01 = reduce(sum_func, list01)                       # o/p = (((2+3)*2 + 4)*2 +5)*2 = (14*2 + 5)*2 = 33*2 = 66\n",
    "print(reduced_list01)"
   ]
  }
 ],
 "metadata": {
  "kernelspec": {
   "display_name": "Python 3",
   "language": "python",
   "name": "python3"
  },
  "language_info": {
   "codemirror_mode": {
    "name": "ipython",
    "version": 3
   },
   "file_extension": ".py",
   "mimetype": "text/x-python",
   "name": "python",
   "nbconvert_exporter": "python",
   "pygments_lexer": "ipython3",
   "version": "3.12.0"
  }
 },
 "nbformat": 4,
 "nbformat_minor": 5
}
