{
 "cells": [
  {
   "cell_type": "markdown",
   "id": "60ddee6f",
   "metadata": {},
   "source": [
    "'is' is the comparision operator which compares the memory location. It will return true only when two objects are exactly the same i.e. when they point to same memory location."
   ]
  },
  {
   "cell_type": "markdown",
   "id": "1ed6dcb7",
   "metadata": {},
   "source": [
    "'==' comparision operator compares the value of two objects. The object should not be same for returining true here, only there value needs to be equal."
   ]
  },
  {
   "cell_type": "code",
   "execution_count": null,
   "id": "92933179",
   "metadata": {},
   "outputs": [
    {
     "name": "stdout",
     "output_type": "stream",
     "text": [
      "False\n",
      "False\n"
     ]
    }
   ],
   "source": [
    "obj1 = 1\n",
    "obj2 = \"1\"\n",
    "\n",
    "print(obj1 is obj2)\n",
    "print(obj1 == obj2)         # Values are not the same as they are of different data-types."
   ]
  },
  {
   "cell_type": "code",
   "execution_count": null,
   "id": "57b51158",
   "metadata": {},
   "outputs": [
    {
     "name": "stdout",
     "output_type": "stream",
     "text": [
      "True\n",
      "True\n"
     ]
    }
   ],
   "source": [
    "a = 5\n",
    "b = a\n",
    "\n",
    "print(a is b)                   # Same object\n",
    "print(a == b)                   # Same valu of both the objects"
   ]
  },
  {
   "cell_type": "code",
   "execution_count": 7,
   "id": "52d8df79",
   "metadata": {},
   "outputs": [
    {
     "name": "stdout",
     "output_type": "stream",
     "text": [
      "False\n",
      "True\n"
     ]
    }
   ],
   "source": [
    "c = [2, 3, 4]\n",
    "d = [2, 3, 4]\n",
    "\n",
    "print(c is d)           # False, as c and d contain same value but they are not stored at same location i.e. they are two different objects of same value.\n",
    "print(c == d)           # True, as value to c and d are equal."
   ]
  },
  {
   "cell_type": "markdown",
   "id": "cbf0598e",
   "metadata": {},
   "source": [
    "# Note: (Below statement is ideal scenario, but may not always happen.)\n",
    "* Please note that when we duplicate a value of immutable data-type e.g. (int, string, tuple etc.) then internally python doesn't create two object at two memory location. Instead, it will map both (or more than two) variable to the value at same single memory-location.\n",
    "* However, this is not the case with mutable data-types (e.g. Lists, dictionaries etc.). In this case different objects can be created with same exact value."
   ]
  },
  {
   "cell_type": "code",
   "execution_count": null,
   "id": "08492110",
   "metadata": {},
   "outputs": [
    {
     "name": "stdout",
     "output_type": "stream",
     "text": [
      "Numbers --> same object :True, same value: True\n",
      "String --> same object :True, same value: True\n",
      "Tuple --> same object :False, same value: True\n",
      "List --> same object :False, same value: True\n",
      "Set --> same object :False, same value: True\n",
      "Dict --> same object :False, same value: True\n"
     ]
    },
    {
     "ename": "",
     "evalue": "",
     "output_type": "error",
     "traceback": [
      "\u001b[1;31mThe Kernel crashed while executing code in the current cell or a previous cell. \n",
      "\u001b[1;31mPlease review the code in the cell(s) to identify a possible cause of the failure. \n",
      "\u001b[1;31mClick <a href='https://aka.ms/vscodeJupyterKernelCrash'>here</a> for more info. \n",
      "\u001b[1;31mView Jupyter <a href='command:jupyter.viewOutput'>log</a> for further details."
     ]
    }
   ],
   "source": [
    "num1 = 5\n",
    "num2 = 5\n",
    "\n",
    "str1 = \"Pravin\"\n",
    "str2 = \"Pravin\"\n",
    "\n",
    "tup1 = (5,2,3)\n",
    "tup2 = (5,2,3)\n",
    "\n",
    "list1 = [1,2,3]\n",
    "list2 = [1,2,3]\n",
    "\n",
    "set1 = set([2,3,3,4,5,5])\n",
    "set2 = set([2,3,3,4,5])\n",
    "\n",
    "dict1 = {\"RollNo\":1 , \"marks\":95}\n",
    "dict2 = {\"RollNo\":1 , \"marks\":95}\n",
    "\n",
    "print(f'Numbers --> same object :{num1 is num2}, same value: {num1 == num2}')       #Num (int) is immutable.\n",
    "print(f'String --> same object :{str1 is str2}, same value: {str1 == str2}')        #String is immutable\n",
    "print(f'Tuple --> same object :{tup1 is tup2}, same value: {tup1 == tup2}')         #Tuple is immutable, so ideally two tuple with same value should point to same memory location. But that may not always be the case.\n",
    "print(f'List --> same object :{list1 is list2}, same value: {list1 == list2}')      #List is mutable\n",
    "print(f'Set --> same object :{set1 is set2}, same value: {set1 == set2}')           #Set is mutable\n",
    "print(f'Dict --> same object :{dict1 is dict2}, same value: {dict1 == dict2}')      #Dict is mutable\n"
   ]
  }
 ],
 "metadata": {
  "kernelspec": {
   "display_name": "Python 3",
   "language": "python",
   "name": "python3"
  },
  "language_info": {
   "codemirror_mode": {
    "name": "ipython",
    "version": 3
   },
   "file_extension": ".py",
   "mimetype": "text/x-python",
   "name": "python",
   "nbconvert_exporter": "python",
   "pygments_lexer": "ipython3",
   "version": "3.12.0"
  }
 },
 "nbformat": 4,
 "nbformat_minor": 5
}
