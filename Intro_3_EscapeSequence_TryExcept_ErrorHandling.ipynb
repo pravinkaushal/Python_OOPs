{
 "cells": [
  {
   "cell_type": "code",
   "execution_count": null,
   "id": "a87b6ef2",
   "metadata": {},
   "outputs": [
    {
     "name": "stdout",
     "output_type": "stream",
     "text": [
      "Here is How to print a \"double quote\" inside a print using escape sequence for quote.\n",
      "Here is How to print a 'single quote' inside a print using escape sequence for quote.\n",
      "Here is how to print a New-line \n",
      " (using escape sequence)\n"
     ]
    }
   ],
   "source": [
    "# How to print a single quote or double quote inside an print\n",
    "print(\"Here is How to print a \\\"double quote\\\" inside a print using escape sequence for quote.\")\n",
    "\n",
    "print('Here is How to print a \\'single quote\\' inside a print using escape sequence for quote.')\n",
    "\n",
    "print('Here is how to print a New-line \\n (using escape sequence)')\n"
   ]
  },
  {
   "cell_type": "code",
   "execution_count": null,
   "id": "7e02e691",
   "metadata": {},
   "outputs": [],
   "source": [
    "'''\n",
    "For multi-line comment, \n",
    "we can use 3 single/double quote at the start and end of the multiline comment.\n",
    "'''\n",
    "\n",
    "# Or we can simply use the Hash symbol as well\n",
    "# But then we will have to include this in each line. \n",
    "# We can use (ctrl+/) shortcut as well to comment singlr or multiple lines."
   ]
  },
  {
   "cell_type": "code",
   "execution_count": 24,
   "id": "fbe09aed",
   "metadata": {},
   "outputs": [
    {
     "name": "stdout",
     "output_type": "stream",
     "text": [
      "multiplication table of S is:\n",
      "invalid literal for int() with base 10: 'S'\n",
      "Operation Complete.\n",
      "\n",
      "Some error occurred\n"
     ]
    }
   ],
   "source": [
    "# Error Handling (try: except:)\n",
    "\n",
    "num = input(\"Please enter the number: \")   # Input always will be string unless converted to desired type.\n",
    "print(f\"multiplication table of {num} is:\")\n",
    "\n",
    "try:\n",
    "    for i in range(1,11):\n",
    "        print(f\"{num} * {i} = {int(num)*i}\")\n",
    "except Exception as e:\n",
    "    print(e)\n",
    "\n",
    "print(\"Operation Complete.\\n\")\n",
    "\n",
    "# we can also do error handling without printing exception e.g.-\n",
    "try:\n",
    "    for i in range(1,11):\n",
    "        print(f\"{num} * {i} = {int(num)*i}\")\n",
    "except:\n",
    "    print(\"Some error occurred\")"
   ]
  },
  {
   "cell_type": "code",
   "execution_count": 30,
   "id": "499a5c37",
   "metadata": {},
   "outputs": [
    {
     "name": "stdout",
     "output_type": "stream",
     "text": [
      "multiplication table of 6 is:\n",
      "6 * 1 = 6\n",
      "6 * 2 = 12\n",
      "6 * 3 = 18\n",
      "6 * 4 = 24\n",
      "6 * 5 = 30\n",
      "6 * 6 = 36\n",
      "6 * 7 = 42\n",
      "6 * 8 = 48\n",
      "6 * 9 = 54\n",
      "6 * 10 = 60\n",
      "I am always executed.\n"
     ]
    },
    {
     "data": {
      "text/plain": [
       "1"
      ]
     },
     "execution_count": 30,
     "metadata": {},
     "output_type": "execute_result"
    }
   ],
   "source": [
    "# Error Handling (try: except: finally:)\n",
    "# Finally is always executed even when normally it wasn't supposed to be executed. \n",
    "#   e.g.- Like the code block of \"finally\" will execute in a function even when it has returned something.\n",
    "\n",
    "num = 6\n",
    "print(f\"multiplication table of {num} is:\")\n",
    "\n",
    "def multiplication(num):\n",
    "    try:\n",
    "        for i in range(1,11):\n",
    "            print(f\"{num} * {i} = {int(num)*i}\")\n",
    "        return 1\n",
    "    except:\n",
    "        print(\"Some error occurred\")\n",
    "        return 0\n",
    "    finally:\n",
    "        print(\"I am always executed.\")\n",
    "\n",
    "multiplication(num)"
   ]
  },
  {
   "cell_type": "code",
   "execution_count": 32,
   "id": "8cabeafd",
   "metadata": {},
   "outputs": [
    {
     "name": "stdout",
     "output_type": "stream",
     "text": [
      "__main__\n"
     ]
    }
   ],
   "source": [
    "print(__name__)"
   ]
  },
  {
   "cell_type": "code",
   "execution_count": 25,
   "id": "673492ac",
   "metadata": {},
   "outputs": [
    {
     "data": {
      "text/plain": [
       "2"
      ]
     },
     "execution_count": 25,
     "metadata": {},
     "output_type": "execute_result"
    }
   ],
   "source": [
    "def f1(list):\n",
    "    for i in list:\n",
    "        return i\n",
    "\n",
    "f1([2,6,7,9])"
   ]
  }
 ],
 "metadata": {
  "kernelspec": {
   "display_name": "Python 3",
   "language": "python",
   "name": "python3"
  },
  "language_info": {
   "codemirror_mode": {
    "name": "ipython",
    "version": 3
   },
   "file_extension": ".py",
   "mimetype": "text/x-python",
   "name": "python",
   "nbconvert_exporter": "python",
   "pygments_lexer": "ipython3",
   "version": "3.12.0"
  }
 },
 "nbformat": 4,
 "nbformat_minor": 5
}
