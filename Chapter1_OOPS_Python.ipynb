{
 "cells": [
  {
   "cell_type": "markdown",
   "metadata": {},
   "source": [
    "@@ File by: Pravin Kaushal (kpravinx@gmail.com)\n",
    "\n",
    "@@ Start Date:25-05-2024\n",
    "@@ Latest Modified: 25-05-2024\n",
    "\n",
    "@@ SOURCE: Code With Harry (DAY 56/57/58/59/60+)"
   ]
  },
  {
   "cell_type": "markdown",
   "metadata": {},
   "source": [
    "#   1. OOPs (Object oriented Programming system)\n",
    "* Procedureal Programming --> Functional Programming --> Object Oriented Programming\n",
    "    * Procedureal Programming : All codes are written sequentially\n",
    "    * Functional Programming : Repeatative codes are turned to functions which can be called instead of repeating the same codes. Increases reusability and decreases redundency. \n",
    "    * Object Oriented Programming (OOP) : Program is mapped to real world object.\n",
    "\n",
    "## 1.1.  Definitions\n",
    "* Class is a blueprint (or say template) for creating objects.\n",
    "    * We can consider Railway form as a class, for an example.\n",
    "\n",
    "* One of the key features of OOP is its **encapsulation** i.e., internal state of an object is hidden and can be only accessed or modified through the object's methods. This helps to protect the object's data and prevent from being modified in unexpected ways.\n",
    "\n",
    "* Another key feature of OOPs is its **inheritence**, which allows new classes to be formed that inherits the properties and methods of an existing class. This allows the code to be reused and make it easy to create new classes that have similar functionality to existing classes.\n",
    "\n",
    "* Python also supports **polymorphism** i.e. many objects of different classes can be treated as if they were objects of common class. This allows for greater flexibility in the code and makes it easier to write code that can work with multiple types of objects.\n",
    "\n",
    "* **Methods** are basically a function defined inside the class which will do some operation (like print and/or some arithmetic ops etc) on the variables passed to the class during object creation.\n",
    "\n",
    "* **Object** is an instance of a class. It contains it's own data and methods. Each instance of a class would be unique with it's own data, but they would all have the same methods as (methods are defined for a class).\n",
    "    * We can consider a filled railway form as an object, as it has it's own data now."
   ]
  },
  {
   "cell_type": "code",
   "execution_count": 1,
   "metadata": {},
   "outputs": [],
   "source": [
    "# E.g. 001\n",
    "\n",
    "# Difference between procedural programming and OOP:\n",
    "\n",
    "# In Proceduaral if we have to track the sale, profit and additional income (addons) the we need to create 3*3 variables to keep track of all these.\n",
    "# For Vikrant\n",
    "sale1 = 6000\n",
    "profit1 = 2000\n",
    "addons = 500\n",
    "\n",
    "# For Ujjwal\n",
    "sale1 = 10000\n",
    "profit1 = 4000\n",
    "addons = 1500\n",
    "\n",
    "# For Chaman\n",
    "sale1 = 7000\n",
    "profit1 = 1900\n",
    "addons = 1300\n"
   ]
  },
  {
   "cell_type": "code",
   "execution_count": 2,
   "metadata": {},
   "outputs": [
    {
     "name": "stdout",
     "output_type": "stream",
     "text": [
      "Pravin Kasuhal Business Analyst\n",
      "Hi, Thanks for the visit! Pravin Kasuhal is Business Analyst by profession.\n",
      "Hi, Thanks for the visit! Raman C V is Scientist by profession.\n",
      "Hi, Thanks for the visit! Michael Clark is Cricketer (Batsman) by profession.\n",
      "Hi, Thanks for the visit! Raman C V is Scientist by profession.\n",
      "None\n",
      "<__main__.Student1 object at 0x0000022BABB5CC80>\n",
      "Pravin Kasuhal Business Analyst\n",
      "Pravin Kasuhal Business Analyst\n"
     ]
    }
   ],
   "source": [
    "# E.g. 002\n",
    "\n",
    "# In OOP (object oriented programming), \n",
    "# Creating classes\n",
    "class Student1:                        # usual convention is to Capitalize the first letter of class-name.\n",
    "    name = \"Pravin Kasuhal\"            # string object\n",
    "    occupation = \"Business Analyst\"\n",
    "\n",
    "    # Forming a method in the class-\n",
    "    def info(self):\n",
    "        print(f\"Hi, Thanks for the visit! {self.name} is {self.occupation} by profession.\")          # Self parameter is a reference to the active/current instance (i.e. Object) of the class. (Read below)\n",
    "        # return None\n",
    "\n",
    "# Self parameter is a reference to the active/current instance (i.e. Object) of the class. It is used to access the variables of that particular class.\n",
    "# Just like '__main__' is the reference to the active/current module/program/code (See __name__==__main__() code).\n",
    "\n",
    "obj_S1 = Student1()             # Creating objects\n",
    "\n",
    "print(obj_S1.name, obj_S1.occupation)       # Calling an instance/object of the class, and printing it's value.\n",
    "\n",
    "obj_S1.info()                           # Calling a Method of a class\n",
    "\n",
    "obj_S1.name = \"Raman C V\"               # Changing/overriding the value of attributes/variables of the \"obj_S1\" instance of the class.\n",
    "obj_S1.occupation = \"Scientist\"\n",
    "obj_S1.info()\n",
    "\n",
    "obj_S2 = Student1()\n",
    "obj_S2.name = \"Michael Clark\"\n",
    "obj_S2.occupation = \"Cricketer (Batsman)\"\n",
    "obj_S2.info()\n",
    "\n",
    "print(obj_S1.info())            # This is printing \"None\" as returned by function. A function always returns something, if nothing is specifically returned, it will return None.\n",
    "\n",
    "Student1().name = \"KPRAVINX\"                    # This will not change class variable, but only instance var. # This will create an object with Student class. and change that object's name to \"KPRAVINX\".\n",
    "print(Student1())                               # Print the memory location where object is stored.\n",
    "print(Student1.name, Student1.occupation)       # Will always point to the origional class and take default values of class Student1. Not Reusable.\n",
    "print(Student1().name, Student1().occupation)   # Will always point to the origional class and take default values of class Student1. Not Reusable."
   ]
  },
  {
   "cell_type": "markdown",
   "metadata": {},
   "source": [
    "### Note A:-\n",
    "* Please note that we can't change the default values of the class itself by giving different value to the class variables through an object (instance of the class). We do so, only for that respective instance/object.\n",
    "i.e. in above example, no matter how many instances we create of class Student1, with different value for variables name or occupation, the default value for them will ramain same i.e. \"Pravin Kasuhal\" and \"Business Analyst\" respectively."
   ]
  },
  {
   "cell_type": "code",
   "execution_count": 3,
   "metadata": {},
   "outputs": [
    {
     "name": "stdout",
     "output_type": "stream",
     "text": [
      "Car brand: Hyundai\n",
      "Car color: Blue\n"
     ]
    }
   ],
   "source": [
    "# E.g. 003\n",
    "\n",
    "class Car1:                  # creating class\n",
    "    color = 'Blue'\n",
    "    brand = 'Hyundai'\n",
    "\n",
    "C1 = Car1()                  # creating an object\n",
    "print(f'Car brand: {C1.brand}')\n",
    "print(f'Car color: {C1.color}')"
   ]
  },
  {
   "cell_type": "markdown",
   "metadata": {},
   "source": [
    "# 1.2. Constructor (\\_\\_init__() Function)\n",
    "\n",
    "* All classes have a constructor function called \\_\\_init__ which is always executed when object is being initiated (i.e. invoked when creating a new object.).\n",
    "* Even in above classes although we can't see, python itself is creating an consructor and executing it.\n",
    "* Constructor always takes a parameters named 'self'. Self refers to the object/instance of the class from where it was initialized. i.e. Self is the reference to the object/instance of the class. Inside the class it is basically equivalent to the object/instance of the class."
   ]
  },
  {
   "cell_type": "code",
   "execution_count": 4,
   "metadata": {},
   "outputs": [
    {
     "name": "stdout",
     "output_type": "stream",
     "text": [
      "Adding new student in database\n",
      "<__main__.Student2 object at 0x0000022BABB5CF50>\n"
     ]
    }
   ],
   "source": [
    "# E.g. 004\n",
    "\n",
    "class Student2:\n",
    "    name = \"Pravin Kaushal\"\n",
    "    def __init__(self):\n",
    "        print(\"Adding new student in database\")\n",
    "        print(self)                                 # printing the self would print the memory location of the object by which it is being initiated\n",
    "\n",
    "S2 = Student2()              # even though no print argument was specially given, since the constructor was initialized automatically, the print command in constructor was executed.                   "
   ]
  },
  {
   "cell_type": "code",
   "execution_count": 5,
   "metadata": {},
   "outputs": [
    {
     "name": "stdout",
     "output_type": "stream",
     "text": [
      "<__main__.Student4 object at 0x0000022BABB5E6C0>\n",
      "Pravin\n"
     ]
    }
   ],
   "source": [
    "class Student4:\n",
    "    # default constructor, will be automatically constructed in case no constructer was defined manually. If there was additional parametrized constructore is defined then will this be executed??\n",
    "    def __init__(self):\n",
    "        print('Hi! This is default constructor.')\n",
    "\n",
    "    #parameterized constructor\n",
    "    def __init__ (self, full_name, marks):                  # This is last defined constructor, so it will be the effective constructor of this class.\n",
    "        self.name = full_name\n",
    "        self.marks = marks\n",
    "\n",
    "# s2 = Student4()               # Will give error as the effective constructor (last defined constructor) accepts 3 args we are passing only 1 (one being passed is \"S1\" to 'self').\n",
    "s1 = Student4 (\"Pravin\", 100)\n",
    "print(s1)                       # prints the memory location of the object\n",
    "print(s1.name)                  # prints the value of name variable in class s1.\n",
    "\n",
    "## In case there are two or mote than two constructors in a class. Then the last defined constructor will override the previously defined constructors automatically."
   ]
  },
  {
   "cell_type": "markdown",
   "metadata": {},
   "source": [
    "### Note B:-\n",
    "* Basically, the 'self' variable reference to the current object/instance of the class, and is used to access the variables that belong to the class.\n",
    "* writing 'self' as parameter is only for convention. It is not necessary in python and can be renamed to any other name e.g. 'abcd' etc."
   ]
  },
  {
   "cell_type": "markdown",
   "metadata": {},
   "source": [
    "### 1.2.1. Adding the variables to the constructor"
   ]
  },
  {
   "cell_type": "code",
   "execution_count": 6,
   "metadata": {},
   "outputs": [
    {
     "name": "stdout",
     "output_type": "stream",
     "text": [
      "Pravin Kaushal , 99\n",
      "Shradha Khapra , 88\n"
     ]
    }
   ],
   "source": [
    "# E.g. 004.01\n",
    "\n",
    "class Student3:\n",
    "    def __init__ (self, full_name, marks):\n",
    "        self.name = full_name                       # Making the value of variable full_name accessible to any method of the class by converting it to instance var self.name\n",
    "        self.marks = marks\n",
    "\n",
    "s1 = Student3(\"Pravin Kaushal\", 99)\n",
    "print(s1.name, ',', s1.marks)\n",
    "\n",
    "s2 = Student3(\"Shradha Khapra\", 88)\n",
    "print(s2.name, ',', s2.marks)"
   ]
  },
  {
   "cell_type": "markdown",
   "metadata": {},
   "source": [
    "### Note C:-\n",
    "\n",
    "* self.var is easily accessible from outside as it is stored with same name (i.e. instancename.var or classname.var). \n",
    "* In order to hide the variable and stop it from getting accidently accessed outside class, we can use '__variable' (double underscore before variable name). It stores the value as (ObjName._ClassName__VariableName) which stops it from getting accessed directly."
   ]
  },
  {
   "cell_type": "code",
   "execution_count": 7,
   "metadata": {},
   "outputs": [
    {
     "name": "stdout",
     "output_type": "stream",
     "text": [
      "10\n",
      "15\n"
     ]
    }
   ],
   "source": [
    "class MyClass:\n",
    "    def __init__(self, value1, value2):\n",
    "        self.value1 = value1                                ## Easily Accessible from outside the class\n",
    "        self.__value2 = value2                              ## Not Easily Accessible from outside the class as it will be stored as (objname._classname__value2)\n",
    "\n",
    "obj_myc = MyClass(10, 15)\n",
    "\n",
    "print(obj_myc.value1)\n",
    "# print(obj_myc.__value2)                                     ## Gives error as __value2 from class can't be accessed directly (due to prefix '__'). See above comments in same block\n",
    "print(obj_myc._MyClass__value2)                               ## Does not gives error. See above comments in same block."
   ]
  },
  {
   "cell_type": "code",
   "execution_count": 8,
   "metadata": {},
   "outputs": [
    {
     "name": "stdout",
     "output_type": "stream",
     "text": [
      "This block is constructor, so it it always run.\n",
      "Initiating the instance of the object.\n",
      "\n",
      "This block is constructor, so it it always run.\n",
      "Initiating the instance of the object.\n",
      "\n",
      "Employee is Pravin Kaushal and his/her role is Business Analyst\n",
      "Employee is Rajat Garg and his/her role is Manager\n"
     ]
    }
   ],
   "source": [
    "# E.g. 005\n",
    "\n",
    "# Is it necessary to pass a default value to the class variables? \n",
    "# Answer is No. But it is good to include a default value if possible, to avoide errors.\n",
    "\n",
    "class Employee:\n",
    "    def __init__(self, emp_name, emp_occ):\n",
    "        print(\"This block is constructor, so it it always run.\")\n",
    "        print(f\"Initiating the instance of the object.\\n\")\n",
    "\n",
    "        self.name = emp_name\n",
    "        self.occ = emp_occ\n",
    "    \n",
    "    def information (self):\n",
    "        print(f'Employee is {self.name} and his/her role is {self.occ}')\n",
    "\n",
    "\n",
    "C1 = Employee(\"Pravin Kaushal\", \"Business Analyst\")         # Note that this is passing 3 argument: self = C1, emp_name = \"Pravin Kaushal\", emp_occ = \"Business Analyst\"\n",
    "C2 = Employee(\"Rajat Garg\", \"Manager\")                      # similarly, this is also passing 3 argument: self = C2, emp_name = \"RAjat Garg\", emp_occ = \"Manager\"\n",
    "\n",
    "C1.information()\n",
    "C2.information()\n",
    "\n",
    "# C3 = Employee()                              # It will give error because there are variables without any default values in the class."
   ]
  },
  {
   "cell_type": "code",
   "execution_count": 9,
   "metadata": {},
   "outputs": [
    {
     "name": "stdout",
     "output_type": "stream",
     "text": [
      "This block is constructor, so it it always run.\n",
      "Initiating the instance of the object.\n",
      "\n",
      "Employee is Tushar and his/her role is Business Analyst\n"
     ]
    }
   ],
   "source": [
    "# E.g. 006\n",
    "\n",
    "# Default values can be passed similar to passing default values to the functions e.g.\n",
    "\n",
    "class Employee_def:\n",
    "    def __init__(self, emp_name = \"Tushar\", emp_occ = \"Business Analyst\"):\n",
    "        print(\"This block is constructor, so it it always run.\")\n",
    "        print(f\"Initiating the instance of the object.\\n\")\n",
    "\n",
    "        self.name = emp_name\n",
    "        self.occ = emp_occ\n",
    "    \n",
    "    def information (self):\n",
    "        print(f'Employee is {self.name} and his/her role is {self.occ}')\n",
    "\n",
    "C3 = Employee_def()       # Since, we have provided default values to variables in __init__, we can initialize class (make an instance) without passing any value. It will auto-use the default values for this object.\n",
    "C3.information()"
   ]
  },
  {
   "cell_type": "code",
   "execution_count": 10,
   "metadata": {},
   "outputs": [
    {
     "name": "stdout",
     "output_type": "stream",
     "text": [
      "This block is constructor, so it it always run.\n",
      "Initiating the instance of the object.\n",
      "\n",
      "Employee is Tushar and his/her role is Business Analyst\n",
      "Employee is Sumit Kumar and his/her role is Senior Executive\n"
     ]
    }
   ],
   "source": [
    "# E.g. 007\n",
    "\n",
    "# Is it necessary that we pass the values to constructor (__init__) method only?? Or we can directly pass to other methods as well?\n",
    "# We can pass to other method directly.\n",
    "\n",
    "# Default values can be passed similar to passing default values to the functions.\n",
    "\n",
    "class Employee_def:\n",
    "    def __init__(self):\n",
    "        print(\"This block is constructor, so it it always run.\")\n",
    "        print(f\"Initiating the instance of the object.\\n\")\n",
    "\n",
    "\n",
    "    def information (self, emp_name = \"Tushar\", emp_occ = \"Business Analyst\"):\n",
    "        print(f'Employee is {emp_name} and his/her role is {emp_occ}')\n",
    "\n",
    "C3 = Employee_def()\n",
    "\n",
    "# C3 = Employee_def(\"Sumit Kumar\", \"Senior Executive\")            # This will cause error as we are passing 3 variables (2 + 1 (i.e. self argument)) to the constructor method.\n",
    "C3.information()                                                  # This will not cause error, only because we have provided default values, otherwise there would be error.\n",
    "C3.information(\"Sumit Kumar\", \"Senior Executive\")"
   ]
  },
  {
   "cell_type": "markdown",
   "metadata": {},
   "source": [
    "### Note D:-\n",
    "* When we construct an instance of a class, Python will automatically run the constructor method (__init__). So, if we have formed the class such that the constructor method takes more than 1 parameter/variable (i.e. other than self argument) then we need to pass values for those parameters while creating the object itself. However, if the variables are in a method other than the constructor, then we will pass their values when we call that particular method.\n",
    "* If we pass a value/argument for the variable within a method it will be available to only that method unless we convert that to instance variable using self parameter e.g. (self.x = x1)\n",
    "* A value/argument passed to a method (including constructor) will be available to that method directly,without need to convert that to instance variable.\n",
    "\n",
    "* see examples below for more clarity (example 8)"
   ]
  },
  {
   "cell_type": "code",
   "execution_count": 11,
   "metadata": {},
   "outputs": [
    {
     "name": "stdout",
     "output_type": "stream",
     "text": [
      "Instance of class \"Variables_Type\" created\n",
      "Sum of provided numbers 5 \n",
      "\n",
      "Numbers are: 5 and 4\n",
      "comparision: 5>4\n"
     ]
    }
   ],
   "source": [
    "# E.g. 008\n",
    "\n",
    "class Variables_Type:\n",
    "    def __init__(self, x,y):\n",
    "        self.x1 = x+y\n",
    "        print(\"Instance of class \\\"Variables_Type\\\" created\")\n",
    "        print(\"Sum of provided numbers\", x+y, \"\\n\")         # Local variables to a particular method can be used in that method without converting them to instance variable (i.e. self.var_name).\n",
    "\n",
    "    def printing(self, z1):\n",
    "        print(f'Numbers are: {self.x1} and {z1}')\n",
    "        self.z2 = z1\n",
    "\n",
    "    def comparision(self):\n",
    "        # if z1 > self.x1:                # It will give error because z1 is local to the method printing. If needed here, we need to convert to instance var then access using (self.z1).\n",
    "        if self.z2 > self.x1:\n",
    "            print(f'{self.z2}>{self.x1}')\n",
    "        else:\n",
    "            print(f'comparision: {self.x1}>{self.z2}')\n",
    "\n",
    "cx1 = Variables_Type(2,3)\n",
    "cx1.printing(4)\n",
    "cx1.comparision()"
   ]
  },
  {
   "cell_type": "code",
   "execution_count": 12,
   "metadata": {},
   "outputs": [
    {
     "name": "stdout",
     "output_type": "stream",
     "text": [
      "['Hyundai', 'blue', 180]\n"
     ]
    }
   ],
   "source": [
    "# E.g. 009\n",
    "\n",
    "class Car:\n",
    "    def car_def (car_self, brand, max_speed):\n",
    "        color = \"blue\"                 # colour is fixed by class definition now\n",
    "        return ([brand, color, max_speed])\n",
    "\n",
    "C2 = Car()\n",
    "car1 = C2.car_def('Hyundai', 180)\n",
    "print(car1)"
   ]
  },
  {
   "cell_type": "markdown",
   "metadata": {},
   "source": [
    "## 1.2.2. Class vs Instance Variables (Below in detail)"
   ]
  },
  {
   "cell_type": "markdown",
   "metadata": {},
   "source": [
    "* Class variables are automatically copied to each instance of the class when they are initiated as \"self.classvar\".\n",
    "* So, if we do any change to obj.classvar or self.classvar, it will only affect one particular instance.\n",
    "* To, actually change the value of classvar to new classvar1, the syntax is:-\n",
    "    * classname.classvar = classvar1"
   ]
  },
  {
   "cell_type": "code",
   "execution_count": null,
   "metadata": {},
   "outputs": [
    {
     "name": "stdout",
     "output_type": "stream",
     "text": [
      "Red 4\n",
      "SUV\n",
      "Blue 8\n",
      "\n",
      "Green 4\n",
      "\n",
      "Green 6\n"
     ]
    }
   ],
   "source": [
    "class car122:\n",
    "    wheels = 4                  # This is class variable. It will remain same for all instances, unless overridden.\n",
    "\n",
    "    def __init__(self, color):\n",
    "        self.car_color = color  # self.car_color is instance variable. It need to be passed when creating the instance of this class.\n",
    "\n",
    "    def car_types(self, car_type):\n",
    "        self.car_type = car_type  # self.car_color is an instance variable, which will be different for each instance and need to be passed when calling this method.\n",
    "        return ''\n",
    "\n",
    "obj_car122_1 = car122('Red')\n",
    "print(obj_car122_1.car_color, obj_car122_1.wheels)\n",
    "# print(obj_car122_1.car_type)\n",
    "# Above line will give error because we havn't called the method 'car_types' which defines this attribute, so it doesn't exist.\n",
    "obj_car122_1.car_types('SUV')        \n",
    "# Above line defines the car_type valiable for this instance to be 'SUV'. Now, we can print the car_type variable.\n",
    "print(obj_car122_1.car_type)\n",
    "\n",
    "obj_car122_1.car_color = 'Blue'         # This changes the value of instance variable 'car_color' of instance 'obj_car122_1' to \"Blue\". Affects only one instance.\n",
    "obj_car122_1.wheels = 8                 # Above line changes the value of class variable 'car_color' of instance 'obj_car122_1' to \"Blue\". \n",
    "                                        # This will affects only one instance as obj.classvar / self.classvar represent a instance copy of the class variable.\n",
    "print(obj_car122_1.car_color, obj_car122_1.wheels)\n",
    "\n",
    "\n",
    "obj_car122_2 = car122('Green')\n",
    "print(\"\\n\" + obj_car122_2.car_color, obj_car122_2.wheels)\n",
    "\n",
    "\n",
    "# To actually change the class variable itself, we can do follow:\n",
    "car122.wheels = 6                       # Thsi changes the value of class variable itself. It affects all the instances created afterwards.\n",
    "\n",
    "obj_car122_3 = car122('Green')\n",
    "print(\"\\n\" + obj_car122_3.car_color, obj_car122_3.wheels)"
   ]
  },
  {
   "cell_type": "markdown",
   "metadata": {},
   "source": [
    "## 1.3. Decorators In Python\n",
    "* Python decorators are a powerful tool which allow to modify the behaviour of the functions and methods. \n",
    "* Basically, Decorator is a function which takes another function as an argument and returns a new function which modifies the behaviour of origional function. The new function is ofter referred as decorated function.\n",
    "* Python decorators are a way to extend the functionality of functions and methods, by modifying its behaviour without modifying it's source code.\n",
    "* This (Decoration method) is used to logging, memorization, and access control etc."
   ]
  },
  {
   "cell_type": "code",
   "execution_count": 14,
   "metadata": {},
   "outputs": [
    {
     "name": "stdout",
     "output_type": "stream",
     "text": [
      "Hi there! Hope you are doing great.\n",
      "Interest earned: 10.0\n",
      "Thank you for the visit. Wish you well and hope to see you again.\n"
     ]
    }
   ],
   "source": [
    "# E.g. 011\n",
    "# Without decorator function\n",
    "\n",
    "# We want code which greets user at starts and end of the program. One way to do it is as follow.\n",
    "\n",
    "def calc_interest(principal,rate,year):\n",
    "    greet_start()\n",
    "    interest=principal * rate * year /100\n",
    "    print(f'Interest earned: {interest}')\n",
    "    greet_end()\n",
    "\n",
    "def greet_start():\n",
    "    print(\"Hi there! Hope you are doing great.\")\n",
    "\n",
    "def greet_end():\n",
    "    print(\"Thank you for the visit. Wish you well and hope to see you again.\")\n",
    "\n",
    "calc_interest(100,10,1)"
   ]
  },
  {
   "cell_type": "code",
   "execution_count": 15,
   "metadata": {},
   "outputs": [
    {
     "name": "stdout",
     "output_type": "stream",
     "text": [
      "Hi there! Hope you are doing great.\n",
      "Interest earned: 15.0\n",
      "Thank you for the visit. Wish you well and hope to see you again.\n"
     ]
    }
   ],
   "source": [
    "### Basic example of a decorated function.\n",
    "# Same problem as above can be done using the decorator in python, as below.\n",
    "\n",
    "def decorator_func(func):\n",
    "    def another_func(*args, **kwargs):\n",
    "        print(\"Hi there! Hope you are doing great.\")\n",
    "        func(*args, **kwargs)\n",
    "        print(\"Thank you for the visit. Wish you well and hope to see you again.\")\n",
    "    return another_func\n",
    "\n",
    "@decorator_func\n",
    "def origional_func(principal,rate,year):\n",
    "    interest=principal * rate * year /100\n",
    "    print(f'Interest earned: {interest}')\n",
    "\n",
    "origional_func(150,10,1)"
   ]
  },
  {
   "cell_type": "code",
   "execution_count": 16,
   "metadata": {},
   "outputs": [
    {
     "name": "stdout",
     "output_type": "stream",
     "text": [
      "Hi there! Hope you are doing great.\n",
      "110\n",
      "Thank you for the visit. Wish you well and hope to see you again.\n",
      "132\n"
     ]
    }
   ],
   "source": [
    "def add_2_num(a,b):\n",
    "    print(a+b)\n",
    "\n",
    "decorator_func(add_2_num)(100,10)\n",
    "add_2_num(112,20)"
   ]
  },
  {
   "cell_type": "code",
   "execution_count": 17,
   "metadata": {},
   "outputs": [
    {
     "name": "stdout",
     "output_type": "stream",
     "text": [
      "Hi there! Hope you are doing great.\n",
      "Interest earned: 0.01\n",
      "Thank you for the visit. Wish you well and hope to see you again.\n",
      "\n",
      "\n",
      "Hi there! Hope you are doing great.\n",
      "200\n",
      "Thank you for the visit. Wish you well and hope to see you again.\n",
      "\n",
      "\n",
      "125\n"
     ]
    }
   ],
   "source": [
    "origional_func(1,1,1)\n",
    "print(\"\\n\")\n",
    "decorator_func(add_2_num)(123,77)\n",
    "print(\"\\n\")\n",
    "add_2_num(123, 2)\n",
    "\n",
    "# Why was decorator not applied to add_2_num where as it was applied to origional_func ??\n",
    "# Because the use of @decorator_func before the 'origional_func' means it will always be executed before the execution of 'origional_func'.\n",
    "# Whereas, in 'add_2_num' @decorator_func was not used. So it need to be applied everytime when this function is called."
   ]
  },
  {
   "cell_type": "markdown",
   "metadata": {},
   "source": [
    "### Note E:-\n",
    "\n",
    "```python\n",
    "@decorator_func:\n",
    "def my_func(args_if_any):\n",
    "    pass\n",
    "```\n",
    "\n",
    "above code is equivalent to:\n",
    "\n",
    "```python\n",
    "my_func = decorator_func(my_func)(args_if_any)\n",
    "```\n",
    "* my_func = decorator_func(my_func(args if any))  -----> This is wrong, as arguments need to passed outside bracket."
   ]
  },
  {
   "cell_type": "code",
   "execution_count": 18,
   "metadata": {},
   "outputs": [],
   "source": [
    "## E.g. 010\n",
    "## Decorator example\n",
    "##Logging to a function (import logging) dee Day59 (9:01 Min timestamp)\n",
    "\n",
    "\n",
    "\n",
    "\n",
    "\n",
    "\n",
    "\n",
    "\n"
   ]
  },
  {
   "cell_type": "markdown",
   "metadata": {},
   "source": [
    "## 1.4. Private Attributes/Variables (For more info pls see video 62 notes below.)"
   ]
  },
  {
   "cell_type": "code",
   "execution_count": 19,
   "metadata": {},
   "outputs": [
    {
     "name": "stdout",
     "output_type": "stream",
     "text": [
      "Value is: 10\n",
      "10 times the value is: (100, 150)\n",
      "10\n",
      "15\n"
     ]
    },
    {
     "data": {
      "text/plain": [
       "(100, 150)"
      ]
     },
     "execution_count": 19,
     "metadata": {},
     "output_type": "execute_result"
    }
   ],
   "source": [
    "# Use of self._var and self.__var\n",
    "\n",
    "class MyClass:\n",
    "    def __init__(self, value1, value2):\n",
    "        self.value1 = value1                                ## Easily Accessible from outside the class\n",
    "        self.__value2 = value2                              ## Not Easily Accessible from outside the class as it will be stored as (objname._classname__value2)\n",
    "    \n",
    "    def show_value(self):\n",
    "        print(f'Value is: {self.value1}')\n",
    "    \n",
    "    def value_10x(self):\n",
    "        return (10*self.value1, 10*self.__value2)\n",
    "\n",
    "\n",
    "obj_myc = MyClass(10, 15)\n",
    "\n",
    "obj_myc.show_value()\n",
    "print(f'10 times the value is: {obj_myc.value_10x()}')\n",
    "\n",
    "print(obj_myc.value1)\n",
    "# print(obj_myc.__value2)                                     ## Gives error. ## Not Easily Accessible from outside the class as it will be stored as (objname._classname__value2)\n",
    "print(obj_myc._MyClass__value2)                               ## Does not gives error. Returns the value self.__value2 from the class MyClass. See above comments in same block.\n",
    "\n",
    "obj_myc.value_10x()\n",
    "\n",
    "# For more info pls see video 62 notes below."
   ]
  },
  {
   "cell_type": "markdown",
   "metadata": {},
   "source": [
    "## 1.5. Getters And Setters (Day 60)\n",
    "* Getters in python are methods that are used to access the values of an object's properties. They are used to return the value of an specific propertiy, and are typically defined using the @property decorator.\n",
    "* With Getters and Setters we can use (or set) return value of a function as object's property."
   ]
  },
  {
   "cell_type": "markdown",
   "metadata": {},
   "source": [
    "### 1.5.1. Getters"
   ]
  },
  {
   "cell_type": "code",
   "execution_count": 20,
   "metadata": {},
   "outputs": [
    {
     "name": "stdout",
     "output_type": "stream",
     "text": [
      "50\n",
      "<bound method MyClassA.value_10x_return of <__main__.MyClassA object at 0x0000022BABB5EC60>>\n",
      "500\n",
      "\n",
      "\n",
      "10\n",
      "<bound method MyClassA.value_10x_return of <__main__.MyClassA object at 0x0000022BABB5EC60>>\n",
      "100\n"
     ]
    }
   ],
   "source": [
    "class MyClassA:\n",
    "    def __init__(self, value):\n",
    "        self._value = value\n",
    "\n",
    "    def value_10x_return(self):\n",
    "        return 10*self._value\n",
    "    \n",
    "objA = MyClassA(50)\n",
    "print(objA._value)                                 # Will print the value\n",
    "print(objA.value_10x_return)                       # Will return the memory location of the function.\n",
    "print(objA.value_10x_return())                     # Works as a function and return the value in return clause.\n",
    "\n",
    "print(\"\\n\")\n",
    "objA._value = 10                                   # Setting the value to the instance from outside to the instance\n",
    "print(objA._value)\n",
    "print(objA.value_10x_return)\n",
    "print(objA.value_10x_return())"
   ]
  },
  {
   "cell_type": "code",
   "execution_count": 21,
   "metadata": {},
   "outputs": [
    {
     "name": "stdout",
     "output_type": "stream",
     "text": [
      "50\n",
      "500\n"
     ]
    }
   ],
   "source": [
    "class MyClassA:\n",
    "    def __init__(self, value):\n",
    "        self._value = value\n",
    "\n",
    "    @property                           # Changes the value_10x_retuen to behaviour to variable like. \n",
    "    def value_10x_return(self):\n",
    "        return 10*self._value\n",
    "    \n",
    "objA = MyClassA(50)\n",
    "print(objA._value)                                 # Will print the value\n",
    "print(objA.value_10x_return)                       # Will return the memory location of the function.\n",
    "\n",
    "# print(objA.value_10x_return())                   # Will now give error as 'value_10x_return' is now behaving like a variable and not a function."
   ]
  },
  {
   "cell_type": "markdown",
   "metadata": {},
   "source": [
    "### 1.5.2. Setter\n",
    "* We can not define a setter without getter. In the syntax '@property_name.setter' property name is the name of getter function."
   ]
  },
  {
   "cell_type": "code",
   "execution_count": 22,
   "metadata": {},
   "outputs": [],
   "source": [
    "class MyClassB:\n",
    "    def __init__(self, value1):\n",
    "        self._value = value1                                # This variable assigning process bypasses the setter defined below as it apply no condition on initial value setting during instance creation. \n",
    "    \n",
    "    @property\n",
    "    def value_return(self):\n",
    "        return 10*self._value\n",
    "    \n",
    "    @value_return.setter                                    # Here property_name must be same as getter name i.e. value_return.\n",
    "    def valx(self, value):                          # function name can be anything not necessarily same as getter function name.\n",
    "        if value>10:\n",
    "            self._value = value\n",
    "        else:\n",
    "            print(f\"Given Value {value} fails Validation.\\nHence self._value will remain same i.e. {self._value}.\\n\")\n",
    "            # raise ValueError(\"Value is less than 10.\")\n"
   ]
  },
  {
   "cell_type": "code",
   "execution_count": 23,
   "metadata": {},
   "outputs": [
    {
     "name": "stdout",
     "output_type": "stream",
     "text": [
      "value1 passed is: 7\n",
      "10 times the self._value is: 70\n",
      "\n",
      "\n",
      "Given Value 9 fails Validation.\n",
      "Hence self._value will remain same i.e. 7.\n",
      "\n",
      "value1 passed is: 15\n",
      "10 times the self._value is: 150\n"
     ]
    }
   ],
   "source": [
    "objB = MyClassB(7)                                          # Will not raise error as setter function's validation is skipped during initialization.\n",
    "print(f'value1 passed is: {objB._value}')\n",
    "print(f'10 times the self._value is: {objB.value_return}')\n",
    "\n",
    "# Setting another value to self._value\n",
    "print('\\n')\n",
    "objB.valx = 9                                             # It will raise error as it fails the validation of the setter.\n",
    "objB.valx = 15\n",
    "print(f'value1 passed is: {objB._value}')\n",
    "print(f'10 times the self._value is: {objB.value_return}')\n"
   ]
  },
  {
   "cell_type": "markdown",
   "metadata": {},
   "source": [
    "## 1.6. Inheritance in Python   (Video 61)\n",
    "* Useful when user wants to make a new class using a pre-existing class.\n",
    "* Child (Inheritor) class will inherit all the public and protected properties and methods from the parent (inherited) class.\n",
    "* In addition, the child class can have it's own properties and methods."
   ]
  },
  {
   "cell_type": "code",
   "execution_count": 24,
   "metadata": {},
   "outputs": [
    {
     "name": "stdout",
     "output_type": "stream",
     "text": [
      "Employee name is 'Pravin Kaushal' an his/her employee id is '225904'.\n"
     ]
    }
   ],
   "source": [
    "# Let's suppose we have a pre-existing class Employee. \n",
    "# Now, we want another class Manager which will inherit all the methods (functions) of Employee class and it will also have certain methods of it's own. \n",
    "# For this, We can utilize inheritance property of classes in Python.\n",
    "\n",
    "class Employee:\n",
    "    def __init__(self, name, empid):\n",
    "        self.__name = name\n",
    "        self.__emp_id = empid\n",
    "    def show_details(self):\n",
    "        print(f\"Employee name is '{self.__name}' an his/her employee id is '{self.__emp_id}'.\")\n",
    "\n",
    "objEmp1 = Employee(\"Pravin Kaushal\", 225904)\n",
    "objEmp1.show_details()"
   ]
  },
  {
   "cell_type": "code",
   "execution_count": 25,
   "metadata": {},
   "outputs": [
    {
     "name": "stdout",
     "output_type": "stream",
     "text": [
      "Employee name is 'Pravin Kaushal' an his/her employee id is '225904'.\n",
      "This Person is also a manager.\n"
     ]
    }
   ],
   "source": [
    "# Now we want to create a manager class which have name and employee id. But it also have manager_id as well.\n",
    "\n",
    "class Manager(Employee):\n",
    "\n",
    "    def show_manager(self):\n",
    "        print('This Person is also a manager.')\n",
    "\n",
    "objMan1 = Manager(\"Pravin Kaushal\", 225904)\n",
    "objMan1.show_details()\n",
    "objMan1.show_manager()"
   ]
  },
  {
   "cell_type": "markdown",
   "metadata": {},
   "source": [
    "### 1.6.2. Types of Inheritance (Discussed later in detail):-\n",
    "* Single Inheritance    (ClassA --> ClassB)\n",
    "* Multiple Inheritance  (ClassA, ClassB --> ClassC)\n",
    "* Multilevel Inheritance    (ClassA --> ClassB --> ClassC)\n",
    "* Hierarchical Inheritance  (This is not core ttype of inheritance, it is an architecture of the level of inheritance i.e. 1st level (parent), 2nd level (child), 3rd level (grand-child) etc..)\n",
    "* Hybrid Inheritance    (This is not core ttype of inheritance, it is an architecture (say family of classes) where more than one core type of inheritance is present.)"
   ]
  },
  {
   "cell_type": "markdown",
   "metadata": {},
   "source": [
    "## 1.7. Access Modifiers in Python (Video 62)\n",
    "\n",
    "* Access Modifiers or access specifiers in python programming are used to limit the access of class variables and class methods from outside the class while implimenting the concepts of inheritence.\n",
    "* (Public/Private/Protected) attributes are not officially defined in Python. We define them loosely as follow:\n",
    "\n",
    "* In any language--\n",
    "* Public access modifiers: \n",
    "    * Any variable in the class with naming convention \"self.var_name\" is public variable. Whenever we make a class, all the methods and variables are by default public\n",
    "    and it can be accessed from outside.\n",
    "* Private access modifiers {prefixed by double underscore after self keyword i.e. InstanceName.__VariableName}:\n",
    "    * Variables or methods prefixed by double underscore (__). This is called 'weak internal use indicator'.\n",
    "    * Cannot be accessed directly from outside the class or their child class (or sub class). However they can be accessed indirectly by the calling it as (InstanceName._ClassName__VariableName).\n",
    "    * This is also called name mangeling as python internally changes the variable names to (InstanceName._ClassName__VariableName) for variable and methods prefixed by (__).\n",
    "    * Name Mangling in python is a technique used to protect class-private and superclass-private attributes from being accidently overwritten by subclasses. Names of class-private and super-private attributes are transformed by the addition of a single leading underscore and double leading underscore respectively.\n",
    "\n",
    "* Private access modifiers {prefixed by single underscore after self keyword i.e. InstanceName._VariableName}: \n",
    "    * Private members (variables and methods) of the class are accessible inside the class, they can't be used from outside the class.\n",
    "    * In Python, there is no strict concept of the \"Private\" access modifiers like in other programming languages. \n",
    "    * However, a convention has been set to indicate that a variable or method should be considered private if prefixed by double underscore (_).\n",
    "    * Please note that this is convention only, not a strict rule i.e. these variables and methods (which are prefixed by _) can still be accessed outside the class without any problem.\n",
    "    * Can be accessed from outside, however it is understood that it should not be accessed from outside the class.\n"
   ]
  },
  {
   "cell_type": "code",
   "execution_count": 26,
   "metadata": {},
   "outputs": [
    {
     "name": "stdout",
     "output_type": "stream",
     "text": [
      "Pravin\n",
      "30\n",
      "Programmer\n",
      "IITBBS\n"
     ]
    }
   ],
   "source": [
    "class Modifier:\n",
    "    def __init__(self, age, profession, college):\n",
    "        self.name = \"Pravin\"         #public variable\n",
    "        self.age = age              #public variable\n",
    "        self._profession = profession\n",
    "        self.__college = college\n",
    "\n",
    "objMod1 = Modifier(30, \"Programmer\", \"IITBBS\")              # Creating the instance/object\n",
    "\n",
    "print(objMod1.name)                 #public variable and hence accessible from outside.\n",
    "print(objMod1.age)                  #public variable and hence accessible from outside.\n",
    "\n",
    "print(objMod1._profession)          #protected variable and still accessible from outside, however it is understood that it should not be accessed from outside.\n",
    "\n",
    "# print(objMod1.__college)   #Error  -->  #private variable and hence not directly accessible from outside the class. However, there is a way to access them outside as well if we know the class and object name.\n",
    "print(objMod1._Modifier__college)       # Way to access the private variables feom the class (InstanceName._ClassName__VariableName). Here, Instance name == Object name."
   ]
  },
  {
   "cell_type": "code",
   "execution_count": 27,
   "metadata": {},
   "outputs": [
    {
     "name": "stdout",
     "output_type": "stream",
     "text": [
      "['name', 'age', '_profession', '_Modifier__college', '__module__', '__init__', '__dict__', '__weakref__', '__doc__', '__new__', '__repr__', '__hash__', '__str__', '__getattribute__', '__setattr__', '__delattr__', '__lt__', '__le__', '__eq__', '__ne__', '__gt__', '__ge__', '__reduce_ex__', '__reduce__', '__getstate__', '__subclasshook__', '__init_subclass__', '__format__', '__sizeof__', '__dir__', '__class__']\n"
     ]
    }
   ],
   "source": [
    "# How to know all attributes/variable and methods of an instance?? \n",
    "# using __dir__() method.\n",
    "\n",
    "# e.g. to see all methods and variables of objMod1 instance of Modifier class.\n",
    "\n",
    "print(objMod1.__dir__())"
   ]
  },
  {
   "cell_type": "markdown",
   "metadata": {},
   "source": [
    "### Excercise 5 (Video 63): Snake Water Gun (please refer to the external code file (Jupiter notebook fie) in the same folder as this code file (Jupiter notebook fie).)\n",
    "### Excercise 6 (Video 64): Library Management System (please refer to the external code file (Jupiter notebook fie) in the same folder as this code file (Jupiter notebook fie).)"
   ]
  },
  {
   "cell_type": "markdown",
   "metadata": {},
   "source": [
    "## 1.8. Static Methods (Video 65)\n",
    "\n",
    "* Static Methods in Python are the methods that belongs to a class rather than an instance of the class. They are defined using the @staticmethod decorator and do not have access to the instance of the class i.e. (self). \n",
    "* They are called on the class itself and not on the instance of the class (however they can be called on instance as well ??). \n",
    "* Static methods are often used to create utility functions that don't need access to the instance data.\n",
    "\n",
    "* Static methods are like normal functions/methods which lies inside the class.\n",
    "\n",
    "* What is their use case?? See other videos for clarification."
   ]
  },
  {
   "cell_type": "code",
   "execution_count": 28,
   "metadata": {},
   "outputs": [
    {
     "name": "stdout",
     "output_type": "stream",
     "text": [
      "7.2\n",
      "3\n",
      "3\n"
     ]
    }
   ],
   "source": [
    "class StaticExample:\n",
    "    def __init__(self, num):\n",
    "        self.num = num\n",
    "\n",
    "    def add_2to_num(self):\n",
    "        return self.num+2\n",
    "\n",
    "    @staticmethod\n",
    "    def add_utility_func(a,b):\n",
    "        return a+b\n",
    "    \n",
    "objStatic1 = StaticExample(5.2)\n",
    "\n",
    "print(objStatic1.add_2to_num())\n",
    "\n",
    "print(objStatic1.add_utility_func(1,2))         # Static methods can be called on instance as well as class (see below)\n",
    "\n",
    "print(StaticExample.add_utility_func(1,2))      # Static methods can be called on class without needing instance.\n",
    "# print(add_utility_func(1,2))                  # Static methods can not be called directly, they need either of the instance or class."
   ]
  },
  {
   "cell_type": "markdown",
   "metadata": {},
   "source": [
    "### Note F:-\n",
    "* Que: Can we create a method inside the class without giving it self parameter?\n",
    "    * Yes, they are called static methods which are like normal functions/methods but within the class. Static methods can be made with the help of decorator @staticmethos.\n",
    "* Can we give self parameter to a static method?? Check\n",
    "* @staticmethod decorator makes sure that no 'self' parameter is passed to the method which it is decorating. So, this static method can be called via an instance or directly via class.\n",
    "* However, if we don't have the @staticmethod decorator before a method then it should be called directly by Class itself and not by instance. As, calling the method by instance will make the 'self' variable being passed to method leading to the error."
   ]
  },
  {
   "cell_type": "code",
   "execution_count": 2,
   "metadata": {},
   "outputs": [
    {
     "name": "stdout",
     "output_type": "stream",
     "text": [
      "5\n",
      "6\n",
      "8\n"
     ]
    }
   ],
   "source": [
    "class StaticExample:\n",
    "    def __init__(self, num):\n",
    "        self.num = num\n",
    "\n",
    "    def add_2to_num(val):                     \n",
    "        return val+2\n",
    "\n",
    "    @staticmethod\n",
    "    def add_utility_func(a,b):\n",
    "        return a+b\n",
    "\n",
    "o1 = StaticExample(5)\n",
    "\n",
    "# print(o1.add_2to_num(3))                      # !!!!Throws error!!!! as o1 instance will pass an additional arg 'self' to the add_2to_num method, which have no holder for it. Hence, causes error.\n",
    "print(StaticExample.add_2to_num(3))             # Works because called directly by class and hence no 'self' argument is being passed.\n",
    "\n",
    "print(o1.add_utility_func(2,4))                 # This is static method with @staticmethod decorator. So, no problem by calling it either by instance or Class itself.\n",
    "print(StaticExample.add_utility_func(3,5))      # This is static method with @staticmethod decorator. So, no problem by calling it either by instance or Class itself."
   ]
  },
  {
   "cell_type": "markdown",
   "metadata": {},
   "source": [
    "## 1.9. Instance vs Class Variables (Video 66)\n",
    "\n",
    "* Instance variables are used when we need to associate a property with the instance of a class. i.e. different variable for this particular variable in each instance of the same class.\n",
    "* Class variables are used when we need to associate a property with the class itself not with the instance of the class. i.e. same value for the variable in each instance of the class.\n",
    "\n",
    "* In Python, variables can be defined at the class level or at the instance level. Understanding the difference between these types of variables is crucial for efficient and maintainable code.\n",
    "\n",
    "    * Class Variables: \n",
    "        Class Variables are defined at the class level and are shared among each instances of the class. They are defined outside of any method are usually used to store informations that are common among all the instances of the class. For example, a class var can be used to store the number of instances of a class that have been created.\n",
    "\n",
    "    * Instance Variables: \n",
    "        Instance Variables are defined at the Instance level and are limited to one instance of the class only. They are defined inside the __init__ method are usually used to store informations that are specific to each instances of the class. For example, an Instance var can be used to store the name of of an employee in the class that represents an employee."
   ]
  },
  {
   "cell_type": "code",
   "execution_count": 30,
   "metadata": {},
   "outputs": [
    {
     "name": "stdout",
     "output_type": "stream",
     "text": [
      "In 'EXL', the name of the employee with employee id '225900' is 'Pravin'.  \n",
      "His raise will be most probably 0.2%.\n",
      "\n",
      "In 'EXL', the name of the employee with employee id '225904' is 'Pravin'.  \n",
      "His raise will be most probably 0.3%.\n",
      "\n",
      "In 'EXL', the name of the employee with employee id '225577' is 'Anirudh'.  \n",
      "His raise will be most probably 0.2%.\n",
      "\n"
     ]
    }
   ],
   "source": [
    "class Employee_ICV:\n",
    "    company = \"EXL\"                        # This is class variable. When refrencing/calling it should be refrenced as \"self.company\".\n",
    "\n",
    "    def __init__(self, name, emp_id):\n",
    "        self.name = name                  # This is instance variable. We need to pass it everytime we create a new instance/object of this class.\n",
    "        self.emp_id = emp_id              # This is instance variable. We need to pass it everytime we create a new instance/object of this class.\n",
    "        self.raise_amount = 0.2\n",
    "\n",
    "    def show_details(self):\n",
    "        print(f'In \\'{self.company}\\', the name of the employee with employee id \\'{self.emp_id}\\' is \\'{self.name}\\'.  \\nHis raise will be most probably {self.raise_amount}%.')\n",
    "        return ''\n",
    "\n",
    "emp1 = Employee_ICV(\"Pravin\", 225900)\n",
    "print(emp1.show_details())\n",
    "\n",
    "# we can change the raise_amount from outside. But only for a particular instance of the class.\n",
    "emp1.emp_id = 225904\n",
    "emp1.raise_amount = 0.3\n",
    "print(emp1.show_details())\n",
    "\n",
    "# Please note that raise_amout will go to 0.2 again (as defined in the class) when we create another instance of the class.\n",
    "emp2 = Employee_ICV(\"Anirudh\", 225577)\n",
    "print(emp2.show_details())"
   ]
  },
  {
   "cell_type": "markdown",
   "metadata": {},
   "source": [
    "### Note G:-\n",
    "* We can also change the class variable like the instance variable for a given instance. This is because priority of instance variable is higher than the priority of class variable. And when we supply an instance variable from outside it gets implemented over the class variable."
   ]
  },
  {
   "cell_type": "markdown",
   "metadata": {},
   "source": [
    "### Note H:-\n",
    "* Another Way of calling class. (e.g. see below)-"
   ]
  },
  {
   "cell_type": "code",
   "execution_count": 31,
   "metadata": {},
   "outputs": [
    {
     "name": "stdout",
     "output_type": "stream",
     "text": [
      "In 'EXL', the name of the employee with employee id '225904' is 'Pravin'.  \n",
      "His raise will be most probably 0.3%.\n"
     ]
    },
    {
     "data": {
      "text/plain": [
       "''"
      ]
     },
     "execution_count": 31,
     "metadata": {},
     "output_type": "execute_result"
    }
   ],
   "source": [
    "# Employee_ICV.show_details(\"Pravin\", 225900)\n",
    "Employee_ICV.show_details(emp1)"
   ]
  },
  {
   "cell_type": "markdown",
   "metadata": {},
   "source": [
    "### Excercise 7 (Video 68): \"Clear the clutter\" excercise."
   ]
  },
  {
   "cell_type": "markdown",
   "metadata": {},
   "source": [
    "## 1.10. Class Methods (Video 69)\n",
    "* In Python classes are a way to define custom data-types that can store data and define functions that can manipulate that data. One type of function that can be defined in class is called a 'class method'.\n",
    "* A class method is a type of method that is bound to the class and not to the instance of the class. I.e. it operates on the class as a whole, rather than on a specific instance of the class. \n",
    "* Class methods are defined using decorator \"@Classmethod\", followed by the function definition. The first argument to the function (class method) is always \"cls\", which represents the class itself.\n",
    "\n",
    "* Class Methods are used in saveral situations, e.g.-:\n",
    "    * You might want to create a factory method that create instance of your class in a specific way. You could define class method that creates the instance and returns it to the caller. \n",
    "    * Another common use case isto provide alternative constructor for your class. This can be useful if you want to create instances of your class in multiple ways, but still have a consistant interface for doing so.\n",
    "\n",
    "* Basically, @Classmethod provide class/cls as first argument to the class methos, in similar manner to the instance/self providing instance as the first argument in normal methods (in absense of @Classmethod decorator)."
   ]
  },
  {
   "cell_type": "code",
   "execution_count": null,
   "metadata": {},
   "outputs": [],
   "source": [
    "class ClassMethod:\n",
    "    company = \"EXL\"                     # This is class variable\n",
    "\n",
    "    def show_details(self):\n",
    "        print(f\"Name of the employee is \\\"{self.name}\\\" and his company is \\\"{self.company}\\\".\")\n",
    "        return ''\n",
    "    \n",
    "    def change_company1(self_or_anythingElse, new_company):                          # This is instance method and hence will change the company name for a particular instance only.\n",
    "        self_or_anythingElse.company = new_company\n",
    "        return ''\n",
    "    \n",
    "    @classmethod                                                                     # This is a class method. Hence, this will change the global variable itself.\n",
    "    def change_company2(cls_or_anythingElse, new_company):\n",
    "        cls_or_anythingElse.company = new_company\n",
    "        return ''\n",
    "    \n"
   ]
  },
  {
   "cell_type": "markdown",
   "metadata": {},
   "source": [
    "### Note I.\n",
    "* Please note that the 1st arguments i.e. ('self' in instance-methods and cls in class methods are just conventions, we cn keep it anything as per our convenience. @classmethos decorator is necessary before class-methods however, without any change.)."
   ]
  },
  {
   "cell_type": "code",
   "execution_count": 6,
   "metadata": {},
   "outputs": [
    {
     "name": "stdout",
     "output_type": "stream",
     "text": [
      "Name of the employee is \"Pravin Kaushal\" and his company is \"EXL\".\n",
      "\n",
      "Name of the employee is \"Pravin Kaushal\" and his company is \"DE-Shaw\".\n",
      "\n",
      "DE-Shaw EXL\n"
     ]
    }
   ],
   "source": [
    "objCM1 = ClassMethod()\n",
    "# No __init__ in above class to makes instance variables e.g. self.name. So, after creating the object we must assign the name attribute externally.\n",
    "objCM1.name = \"Pravin Kaushal\"\n",
    "\n",
    "print(objCM1.show_details())\n",
    "\n",
    "objCM1.change_company1(\"DE-Shaw\")                                           # Class variable is still EXL as change was applied through instance-method.\n",
    "print(objCM1.show_details())\n",
    "\n",
    "print(objCM1.company, ClassMethod.company)"
   ]
  },
  {
   "cell_type": "code",
   "execution_count": 7,
   "metadata": {},
   "outputs": [
    {
     "name": "stdout",
     "output_type": "stream",
     "text": [
      "Name of the employee is \"Harry Potter\" and his company is \"EXL\".\n",
      "\n",
      "Name of the employee is \"Harry Potter\" and his company is \"Ministery-of-Magic\".\n",
      "\n",
      "Ministery-of-Magic Ministery-of-Magic\n"
     ]
    }
   ],
   "source": [
    "objCM2 = ClassMethod()\n",
    "objCM2.name = \"Harry Potter\"\n",
    "\n",
    "print(objCM2.show_details())\n",
    "\n",
    "objCM2.change_company2(\"Ministery-of-Magic\")                                # Now the class variable itself is changed to Ministery-of-Magic, as change was applied through class-method.\n",
    "print(objCM2.show_details())\n",
    "\n",
    "print(objCM2.company, ClassMethod.company)"
   ]
  },
  {
   "cell_type": "markdown",
   "metadata": {},
   "source": [
    "## 1.11. Class Method as an alternative constructor in Python (Video 70)\n",
    "* In OOP, constructor method (__init__) are a special type of methods which are auto-executed on creating an object from the class. The purpose of constructor is to initiate the object's attributes, allowing the objects to fully functional and ready to use.\n",
    "* However, there are times when you might want to create an object in a different way, or with different initial values then what was provided in default constructor. This is where class method can be used as alternative constructors.\n",
    "* A class method belongs to the class rather than to the instance of the class. One common use case for the Class method as alternative constructors is when you want to create an object from data that is stored in a different format, such as string or a dictionary.\n",
    "* Another use case of Class Method is when user want to create different set of default values then what is provided by the default constructor."
   ]
  },
  {
   "cell_type": "markdown",
   "metadata": {},
   "source": [
    "* Consider the following example--"
   ]
  },
  {
   "cell_type": "code",
   "execution_count": 35,
   "metadata": {},
   "outputs": [
    {
     "name": "stdout",
     "output_type": "stream",
     "text": [
      "Salary of the employee Pravin is 1500000.\n",
      "\n",
      "Salary of the employee Tushar is 1250000.\n",
      "\n",
      "Salary of the employee Sahil is 1000000.\n",
      "\n"
     ]
    }
   ],
   "source": [
    "# Initially, we had a function which will take name and salary in string and int/float form. But now the user want to sed the single input as a string \"Name-Salary\" format.\n",
    "# How to tackle it without changing the class, itself? By using Class-Method.\n",
    "import string\n",
    "\n",
    "class ClassMethod_Employee:\n",
    "    def __init__(self, name, salary):\n",
    "        self.name = name\n",
    "        self.salary = salary\n",
    "\n",
    "    def show_details(self):\n",
    "        print(f\"Salary of the employee {self.name} is {self.salary}.\")\n",
    "        return \"\"\n",
    "    \n",
    "    @classmethod\n",
    "    def split_details(cls, string2):                                              # This constructor recieves string2, split it to name/salary and passess to cls i.e. Class which initializes the __init__ constructor.\n",
    "        return cls(string2.split(\"-\")[0] , int(string2.split(\"-\")[1]))                                 \n",
    "\n",
    "objCME1 = ClassMethod_Employee(\"Pravin\", \"1500000\")\n",
    "print(objCME1.show_details())\n",
    "\n",
    "\n",
    "################ Challange ####################\n",
    "# Now instead of passing two arguments i.e. (\"Pravin\", \"1500000\"), user wants to pass only one argument i.e. (\"Pravin-1500000\") to get the same result.\n",
    "\n",
    "#########\n",
    "# 1st method\n",
    "string1 = \"Tushar-1250000\"\n",
    "objCME2 = ClassMethod_Employee(string1.split(\"-\")[0], string1.split(\"-\")[1])\n",
    "print(objCME2.show_details())\n",
    "\n",
    "\n",
    "#########\n",
    "# Second add below commented-class-method to the above class.\n",
    "\n",
    "# @classmethod\n",
    "# def split_details(cls, string2):\n",
    "#     return cls(string2.split(\"-\")[0] , string2.split(\"-\")[1])\n",
    "\n",
    "string2 = \"Sahil-1000000\"\n",
    "objCME3 = ClassMethod_Employee.split_details(string2)\n",
    "print(objCME3.show_details())\n"
   ]
  },
  {
   "cell_type": "markdown",
   "metadata": {},
   "source": [
    "### Note J:-\n",
    "* Steps Involved in above alternate/intermediate constructor (class method) use.\n",
    "    * 1. We pass the string2 to class method 'split_details' which splits the string into 2 values, name and string.\n",
    "    * 2. Those two splitted value is then passed to cls (i.e. Class 'ClassMethod_Employee'). Which initiates the process exactly like normal object creation from classes. This object created is then assigned to variable objCME3 via return clause.\n",
    "    * 3. Everything is like normal class now.\n",
    "\n",
    "* Ex-Imp Note: What all we have done in above example is that we esentially have created an intermediary constructor in the class using classmethod, which does few operations before actually initiating the origional constructor (__init__) of the class and creating an object. \n",
    "* This is the esence of Class-Method (@classmethod decorator)."
   ]
  },
  {
   "cell_type": "code",
   "execution_count": 36,
   "metadata": {},
   "outputs": [],
   "source": [
    "# Using class method to change default values which is set in default constructor.\n",
    "\n",
    "class ClassMethodRectangle:\n",
    "    def __init__(self, len=50, wid=40):\n",
    "        self.length = len\n",
    "        self.width = wid\n",
    "    \n",
    "    def area_rect(self):\n",
    "        area = self.length * self.width\n",
    "        print(f\"Are of the Rectangle with given length, width as {self.length}, {self.width} respectively is: {area}\")\n",
    "        return \"\"\n",
    "    @classmethod\n",
    "    def change_defaults(cls, len2=100, wid2=80):\n",
    "        return cls(len2, wid2)\n"
   ]
  },
  {
   "cell_type": "code",
   "execution_count": 37,
   "metadata": {},
   "outputs": [
    {
     "name": "stdout",
     "output_type": "stream",
     "text": [
      "Are of the Rectangle with given length, width as 20, 10 respectively is: 200\n",
      "Are of the Rectangle with given length, width as 50, 40 respectively is: 2000\n",
      "Are of the Rectangle with given length, width as 100, 80 respectively is: 8000\n"
     ]
    },
    {
     "data": {
      "text/plain": [
       "''"
      ]
     },
     "execution_count": 37,
     "metadata": {},
     "output_type": "execute_result"
    }
   ],
   "source": [
    "# Parameters provided\n",
    "objCMR1 = ClassMethodRectangle(20,10)                 # Since parameters are passed, it will ignore default values and go on with the provided parameters.)\n",
    "objCMR1.area_rect()\n",
    "\n",
    "# With default values\n",
    "objCMR2 = ClassMethodRectangle()                      # Since no parameter (except instancename/self is passed, it will consider default values for missing parameters.)\n",
    "objCMR2.area_rect()\n",
    "\n",
    "# With changed default value\n",
    "objCMR3 = ClassMethodRectangle.change_defaults()      # Since we are using different default values for parameters theough class method and we are not passing the parameters, it will consider changed default values.\n",
    "objCMR3.area_rect()"
   ]
  },
  {
   "cell_type": "markdown",
   "metadata": {},
   "source": [
    "## 1.12. 'dir' method, '\\_\\_dict__' attribute, 'help' method in python. (Object introspection) (video 71)\n",
    "\n",
    "* These methods and attributes makes it easy for us to understand how classes resolve various functions and executes code.\n",
    "* The dir() method: It returns the attributes and methods (including dunder methods) which are available for an object.\n",
    "* The \\_\\_dict__ attribute returns the dictionary representation of an object's attributes. It is useful tool for introspection.\n",
    "* help() method is used to get help documentation for an object, including the description of it's attributes and methods."
   ]
  },
  {
   "cell_type": "code",
   "execution_count": 38,
   "metadata": {},
   "outputs": [],
   "source": [
    "import string\n",
    "\n",
    "class Inspection_Employee:\n",
    "    def __init__(self, name, salary):\n",
    "        self.name = name\n",
    "        self.salary = salary\n",
    "\n",
    "    def show_details(self):\n",
    "        print(f\"Salary of the employee {self.name} is {self.salary}.\")\n",
    "        return \"\"\n",
    "    \n",
    "    @classmethod\n",
    "    def split_details(cls, string2):                                              # This constructor recieves string2, split it to name/salary and passess to cls i.e. Class which initializes the __init__ constructor.\n",
    "        return cls(string2.split(\"-\")[0] , int(string2.split(\"-\")[1]))                                 \n"
   ]
  },
  {
   "cell_type": "code",
   "execution_count": 39,
   "metadata": {},
   "outputs": [
    {
     "name": "stdout",
     "output_type": "stream",
     "text": [
      "Salary of the employee Pravin is 1500000.\n",
      "\n",
      "['__class__', '__delattr__', '__dict__', '__dir__', '__doc__', '__eq__', '__format__', '__ge__', '__getattribute__', '__getstate__', '__gt__', '__hash__', '__init__', '__init_subclass__', '__le__', '__lt__', '__module__', '__ne__', '__new__', '__reduce__', '__reduce_ex__', '__repr__', '__setattr__', '__sizeof__', '__str__', '__subclasshook__', '__weakref__', 'show_details', 'split_details']\n",
      "['__class__', '__delattr__', '__dict__', '__dir__', '__doc__', '__eq__', '__format__', '__ge__', '__getattribute__', '__getstate__', '__gt__', '__hash__', '__init__', '__init_subclass__', '__le__', '__lt__', '__module__', '__ne__', '__new__', '__reduce__', '__reduce_ex__', '__repr__', '__setattr__', '__sizeof__', '__str__', '__subclasshook__', '__weakref__', 'name', 'salary', 'show_details', 'split_details']\n",
      "{'name': 'Pravin', 'salary': '1500000'}\n",
      "{'__module__': '__main__', '__init__': <function Inspection_Employee.__init__ at 0x0000022BABB66980>, 'show_details': <function Inspection_Employee.show_details at 0x0000022BABB676A0>, 'split_details': <classmethod(<function Inspection_Employee.split_details at 0x0000022BABB67740>)>, '__dict__': <attribute '__dict__' of 'Inspection_Employee' objects>, '__weakref__': <attribute '__weakref__' of 'Inspection_Employee' objects>, '__doc__': None}\n",
      "Help on class Inspection_Employee in module __main__:\n",
      "\n",
      "class Inspection_Employee(builtins.object)\n",
      " |  Inspection_Employee(name, salary)\n",
      " |\n",
      " |  Methods defined here:\n",
      " |\n",
      " |  __init__(self, name, salary)\n",
      " |      Initialize self.  See help(type(self)) for accurate signature.\n",
      " |\n",
      " |  show_details(self)\n",
      " |\n",
      " |  ----------------------------------------------------------------------\n",
      " |  Class methods defined here:\n",
      " |\n",
      " |  split_details(string2) from builtins.type\n",
      " |\n",
      " |  ----------------------------------------------------------------------\n",
      " |  Data descriptors defined here:\n",
      " |\n",
      " |  __dict__\n",
      " |      dictionary for instance variables (if defined)\n",
      " |\n",
      " |  __weakref__\n",
      " |      list of weak references to the object (if defined)\n",
      "\n",
      "None\n",
      "Help on Inspection_Employee in module __main__ object:\n",
      "\n",
      "class Inspection_Employee(builtins.object)\n",
      " |  Inspection_Employee(name, salary)\n",
      " |\n",
      " |  Methods defined here:\n",
      " |\n",
      " |  __init__(self, name, salary)\n",
      " |      Initialize self.  See help(type(self)) for accurate signature.\n",
      " |\n",
      " |  show_details(self)\n",
      " |\n",
      " |  ----------------------------------------------------------------------\n",
      " |  Class methods defined here:\n",
      " |\n",
      " |  split_details(string2) from builtins.type\n",
      " |\n",
      " |  ----------------------------------------------------------------------\n",
      " |  Data descriptors defined here:\n",
      " |\n",
      " |  __dict__\n",
      " |      dictionary for instance variables (if defined)\n",
      " |\n",
      " |  __weakref__\n",
      " |      list of weak references to the object (if defined)\n",
      "\n",
      "None\n"
     ]
    }
   ],
   "source": [
    "objIE1 = Inspection_Employee(\"Pravin\", \"1500000\")\n",
    "print(objCME1.show_details())\n",
    "\n",
    "print(dir(Inspection_Employee))\n",
    "print(dir(objIE1))\n",
    "\n",
    "print(objIE1.__dict__)\n",
    "print(Inspection_Employee.__dict__)\n",
    "\n",
    "print(help(Inspection_Employee))\n",
    "print(help(objIE1))"
   ]
  },
  {
   "cell_type": "markdown",
   "metadata": {},
   "source": [
    "### Note K:- \n",
    "* Please note that the methods help(), dir() and attributes works on simple objects also e.g. on a list, string etc as well. Not just on the class or class-methods. e.g.:-"
   ]
  },
  {
   "cell_type": "code",
   "execution_count": 40,
   "metadata": {},
   "outputs": [
    {
     "name": "stdout",
     "output_type": "stream",
     "text": [
      "['__add__', '__class__', '__class_getitem__', '__contains__', '__delattr__', '__delitem__', '__dir__', '__doc__', '__eq__', '__format__', '__ge__', '__getattribute__', '__getitem__', '__getstate__', '__gt__', '__hash__', '__iadd__', '__imul__', '__init__', '__init_subclass__', '__iter__', '__le__', '__len__', '__lt__', '__mul__', '__ne__', '__new__', '__reduce__', '__reduce_ex__', '__repr__', '__reversed__', '__rmul__', '__setattr__', '__setitem__', '__sizeof__', '__str__', '__subclasshook__', 'append', 'clear', 'copy', 'count', 'extend', 'index', 'insert', 'pop', 'remove', 'reverse', 'sort']\n",
      "<method-wrapper '__add__' of list object at 0x0000022BABB6C140>\n",
      "Help on list object:\n",
      "\n",
      "class list(object)\n",
      " |  list(iterable=(), /)\n",
      " |\n",
      " |  Built-in mutable sequence.\n",
      " |\n",
      " |  If no argument is given, the constructor creates a new empty list.\n",
      " |  The argument must be an iterable if specified.\n",
      " |\n",
      " |  Methods defined here:\n",
      " |\n",
      " |  __add__(self, value, /)\n",
      " |      Return self+value.\n",
      " |\n",
      " |  __contains__(self, key, /)\n",
      " |      Return bool(key in self).\n",
      " |\n",
      " |  __delitem__(self, key, /)\n",
      " |      Delete self[key].\n",
      " |\n",
      " |  __eq__(self, value, /)\n",
      " |      Return self==value.\n",
      " |\n",
      " |  __ge__(self, value, /)\n",
      " |      Return self>=value.\n",
      " |\n",
      " |  __getattribute__(self, name, /)\n",
      " |      Return getattr(self, name).\n",
      " |\n",
      " |  __getitem__(self, index, /)\n",
      " |      Return self[index].\n",
      " |\n",
      " |  __gt__(self, value, /)\n",
      " |      Return self>value.\n",
      " |\n",
      " |  __iadd__(self, value, /)\n",
      " |      Implement self+=value.\n",
      " |\n",
      " |  __imul__(self, value, /)\n",
      " |      Implement self*=value.\n",
      " |\n",
      " |  __init__(self, /, *args, **kwargs)\n",
      " |      Initialize self.  See help(type(self)) for accurate signature.\n",
      " |\n",
      " |  __iter__(self, /)\n",
      " |      Implement iter(self).\n",
      " |\n",
      " |  __le__(self, value, /)\n",
      " |      Return self<=value.\n",
      " |\n",
      " |  __len__(self, /)\n",
      " |      Return len(self).\n",
      " |\n",
      " |  __lt__(self, value, /)\n",
      " |      Return self<value.\n",
      " |\n",
      " |  __mul__(self, value, /)\n",
      " |      Return self*value.\n",
      " |\n",
      " |  __ne__(self, value, /)\n",
      " |      Return self!=value.\n",
      " |\n",
      " |  __repr__(self, /)\n",
      " |      Return repr(self).\n",
      " |\n",
      " |  __reversed__(self, /)\n",
      " |      Return a reverse iterator over the list.\n",
      " |\n",
      " |  __rmul__(self, value, /)\n",
      " |      Return value*self.\n",
      " |\n",
      " |  __setitem__(self, key, value, /)\n",
      " |      Set self[key] to value.\n",
      " |\n",
      " |  __sizeof__(self, /)\n",
      " |      Return the size of the list in memory, in bytes.\n",
      " |\n",
      " |  append(self, object, /)\n",
      " |      Append object to the end of the list.\n",
      " |\n",
      " |  clear(self, /)\n",
      " |      Remove all items from list.\n",
      " |\n",
      " |  copy(self, /)\n",
      " |      Return a shallow copy of the list.\n",
      " |\n",
      " |  count(self, value, /)\n",
      " |      Return number of occurrences of value.\n",
      " |\n",
      " |  extend(self, iterable, /)\n",
      " |      Extend list by appending elements from the iterable.\n",
      " |\n",
      " |  index(self, value, start=0, stop=9223372036854775807, /)\n",
      " |      Return first index of value.\n",
      " |\n",
      " |      Raises ValueError if the value is not present.\n",
      " |\n",
      " |  insert(self, index, object, /)\n",
      " |      Insert object before index.\n",
      " |\n",
      " |  pop(self, index=-1, /)\n",
      " |      Remove and return item at index (default last).\n",
      " |\n",
      " |      Raises IndexError if list is empty or index is out of range.\n",
      " |\n",
      " |  remove(self, value, /)\n",
      " |      Remove first occurrence of value.\n",
      " |\n",
      " |      Raises ValueError if the value is not present.\n",
      " |\n",
      " |  reverse(self, /)\n",
      " |      Reverse *IN PLACE*.\n",
      " |\n",
      " |  sort(self, /, *, key=None, reverse=False)\n",
      " |      Sort the list in ascending order and return None.\n",
      " |\n",
      " |      The sort is in-place (i.e. the list itself is modified) and stable (i.e. the\n",
      " |      order of two equal elements is maintained).\n",
      " |\n",
      " |      If a key function is given, apply it once to each list item and sort them,\n",
      " |      ascending or descending, according to their function values.\n",
      " |\n",
      " |      The reverse flag can be set to sort in descending order.\n",
      " |\n",
      " |  ----------------------------------------------------------------------\n",
      " |  Class methods defined here:\n",
      " |\n",
      " |  __class_getitem__(...) from builtins.type\n",
      " |      See PEP 585\n",
      " |\n",
      " |  ----------------------------------------------------------------------\n",
      " |  Static methods defined here:\n",
      " |\n",
      " |  __new__(*args, **kwargs) from builtins.type\n",
      " |      Create and return a new object.  See help(type) for accurate signature.\n",
      " |\n",
      " |  ----------------------------------------------------------------------\n",
      " |  Data and other attributes defined here:\n",
      " |\n",
      " |  __hash__ = None\n",
      "\n",
      "None\n"
     ]
    }
   ],
   "source": [
    "print(dir([1,2,3]))\n",
    "print([1,2,3].__add__)                      # To check if __add__ method is available for x.\n",
    "\n",
    "print(help([1,2,3]))"
   ]
  },
  {
   "cell_type": "markdown",
   "metadata": {},
   "source": [
    "## 1.13. Super Keyword in Python (Video 72)\n",
    "* Can be used for calling parent class from child class.\n",
    "* super() keyword in Python is used to refer to the parent class. It is especially useful when a child class inherits from multiple parent classes and user wants to call a specific method from a specific parent class.\n",
    "* When a class inherits from the parent class, it can override or extends the methods defined in the parent class. However, sometimes you might want to use the parent class method in the child class. This is where super() keyword comes in handy.\n",
    "\n"
   ]
  },
  {
   "cell_type": "code",
   "execution_count": 41,
   "metadata": {},
   "outputs": [],
   "source": [
    "class ParentClass:\n",
    "    def ParentMethod(self):\n",
    "        print(\"This is Parent Method from Parent Class.\")\n",
    "\n",
    "class ChildClass(ParentClass):\n",
    "    def ChildMethod(self):\n",
    "        print(\"This is Child Method from Child Class.\")\n",
    "    def ParentMethod(self):\n",
    "        print(\"This is Parent Method from Child Class.\")\n",
    "    def ParentMethodOG(self):\n",
    "        super().ParentMethod()\n"
   ]
  },
  {
   "cell_type": "code",
   "execution_count": 42,
   "metadata": {},
   "outputs": [
    {
     "name": "stdout",
     "output_type": "stream",
     "text": [
      "This is Parent Method from Child Class.\n",
      "This is Parent Method from Parent Class.\n"
     ]
    }
   ],
   "source": [
    "objPC1 = ChildClass()\n",
    "objPC1.ParentMethod()                                           # If same name method is present in the child class, then child-class method overrides the parent-class method.\n",
    "\n",
    "# But then, what to do when we want to call the parent-class method which have a same name function in the child class?\n",
    "# use super() keyword in the child-class.\n",
    "objPC1.ParentMethodOG()"
   ]
  },
  {
   "cell_type": "markdown",
   "metadata": {},
   "source": [
    "### Note L:-\n",
    "* super() can be also used to access Parent class constructor."
   ]
  },
  {
   "cell_type": "code",
   "execution_count": 43,
   "metadata": {},
   "outputs": [
    {
     "name": "stdout",
     "output_type": "stream",
     "text": [
      "The name of the Programmer with Emp-ID \"Pravin225904\" is \"Pravin Kaushal\".\n",
      "He codes in \"Python\" language.\n"
     ]
    }
   ],
   "source": [
    "class ExampleClassINITAccess:\n",
    "    def __init__(self, name, id):\n",
    "        self.name = name\n",
    "        self.id = id\n",
    "\n",
    "class ExampleClassINITAccessChild(ExampleClassINITAccess):                  # Creating a child-class which inherits all methods and attributes of parent class.\n",
    "    def __init__(self, name, id, lang):\n",
    "        super().__init__(name, id)                  # Sending name and id to parent class constructor for assigning it as instance variables self.name and self.id respectively.\n",
    "        self.lang = lang\n",
    "\n",
    "    def show_details(self):\n",
    "        print(f'The name of the Programmer with Emp-ID \"{self.id}\" is \"{self.name}\".\\nHe codes in \"{self.lang}\" language.')\n",
    "\n",
    "\n",
    "\n",
    "objECIA1 = ExampleClassINITAccessChild('Pravin Kaushal', \"Pravin225904\", \"Python\")\n",
    "objECIA1.show_details()"
   ]
  },
  {
   "cell_type": "markdown",
   "metadata": {},
   "source": [
    "# 1.14. Magic/Dunder Methods in Python: (These method start with double underscore and ends with double underscore as well e.g. __Method__) (Video 73)\n",
    "\n",
    "* Magic or Dunder methods are special methods which can be defined in classes, and when invoked they give you a powerful way to manipulate the objects and their behaviour.\n",
    "\n",
    "* \\_\\_init__ method:\n",
    "    * This is the built-in constructor method in Python class. It is automatically called when user creates a new instance of the class. It is responsible for setting up the object initial state and it is where user would typically define any instance variables.\n",
    "\n",
    "* \\_\\_str__ method and \\_\\_repr__ method:\n",
    "    * The __str__() and __repr__() methods are both used to convert an object to a string representative.\n",
    "    * The __str__() method is used when you want to print out an object.\n",
    "    * While __repr__() method is used when you want to get a string representation of an object that can be used to recreate the object.\n",
    "    * If \\_\\_str__ is not defined, then str(obj) will fallback to \\_\\_repr__().\n",
    "\n",
    "\n",
    "* \\_\\_len__ method:\n",
    "    * Used to get the length of the object.\n",
    "\n",
    "* \\_\\_call__ method:\n",
    "    * To make an object to callable\n",
    "##\n",
    "##\n",
    "\n",
    "![alt text](image-1.png)"
   ]
  },
  {
   "cell_type": "markdown",
   "metadata": {},
   "source": [
    "### 1.14.1. \\_\\_len__()\n",
    "* \\_\\_len__() method (by default it returns an objects (variable, list etc.) length.)"
   ]
  },
  {
   "cell_type": "code",
   "execution_count": 44,
   "metadata": {},
   "outputs": [
    {
     "name": "stdout",
     "output_type": "stream",
     "text": [
      "Pravin\n",
      "6\n"
     ]
    }
   ],
   "source": [
    "class DunderExampleLen1:\n",
    "    name = \"Pravin\"\n",
    "\n",
    "objDE1 = DunderExampleLen1()\n",
    "print(objDE1.name)\n",
    "print(len(objDE1.name))                         # Work on both origional definition of the length.\n",
    "\n",
    "# What if User want to pass the instance name itself to get the output as 2X the length of name variable??\n",
    "\n",
    "# print(len(objDE1))                            # Won't work because this input type is unexpected. We will have to redefine the len method to do our work."
   ]
  },
  {
   "cell_type": "code",
   "execution_count": 45,
   "metadata": {},
   "outputs": [
    {
     "name": "stdout",
     "output_type": "stream",
     "text": [
      "Kaushal\n",
      "14\n"
     ]
    }
   ],
   "source": [
    "class DunderExampleLen2:\n",
    "    name = \"Kaushal\"\n",
    "\n",
    "    # def __lenName__(self):                   # may work like normal function, but not advisable as it is not built-in method in python. \n",
    "    def __len__(self):                         # We are customizing built-in function/method to give a certain output which is not pre-defined (i.e. we are giving new definition to a in-built) method.\n",
    "        c = 0\n",
    "        for j in self.name:\n",
    "            c = c + 2\n",
    "        return c\n",
    "\n",
    "objDE1 = DunderExampleLen2()\n",
    "print(objDE1.name)\n",
    "      \n",
    "print(len(objDE1))                              # Works only because we have changed the definition of the __len__() method."
   ]
  },
  {
   "cell_type": "markdown",
   "metadata": {},
   "source": [
    "### 1.14.2. \\_\\_str__() method and \\_\\_repr__() method:\n",
    "\n",
    "* The __str__() and __repr__() methods are both used to convert an object to a string representative. (Pls see last example of this section to get more clarity).\n",
    "* The __str__() method is used when you want to print out an object.\n",
    "* While __repr__() method is used when you want to get a string representation of an object that can be used to recreate the object.\n",
    "* If \\_\\_str__ is not defined, then str(obj) will fallback to \\_\\_repr__().\n",
    "#\n",
    "* In short:\n",
    "* If you're writing a library, use __repr__ to help other programmers understand object internals.\n",
    "* If you're building a user-facing app, use __str__ to show nice output.\n",
    "#\n",
    "* If neither \\_\\_str__ nor \\_\\_repr__ was defined, and you're seeing the built-in fallback from object.\\_\\_repr__.\n",
    "* \\_\\_str__ has no independent default of its own — Python just borrows \\_\\_repr__ when needed for \\_\\_str__."
   ]
  },
  {
   "cell_type": "code",
   "execution_count": 46,
   "metadata": {},
   "outputs": [
    {
     "name": "stdout",
     "output_type": "stream",
     "text": [
      "str func: name of the employee is 'Kaushal'\n",
      "repr func: name of the employee is 'Kaushal'\n",
      "<__main__.DunderExampleStr3 object at 0x0000022BABB5FBF0>\n",
      "<__main__.DunderExampleStr3 object at 0x0000022BABB5FBF0>\n",
      "<__main__.DunderExampleStr3 object at 0x0000022BABB5FBF0>\n"
     ]
    }
   ],
   "source": [
    "class DunderExampleStr1:\n",
    "    name = \"Kaushal\"\n",
    "\n",
    "    def __str__(self):\n",
    "        return f\"str func: name of the employee is '{self.name}'\"\n",
    "\n",
    "objDES1 = DunderExampleStr1()\n",
    "print(objDES1)\n",
    "# In above example, since str() or __str__ is defined, then str(obj) will simply call to __str__().\n",
    "\n",
    "##############################################################################################################\n",
    "class DunderExampleStr2:\n",
    "    name = \"Kaushal\"\n",
    "\n",
    "    def __repr__(self):\n",
    "        return f\"repr func: name of the employee is '{self.name}'\"\n",
    "\n",
    "objDES2 = DunderExampleStr2()\n",
    "print(objDES2)\n",
    "\n",
    "# In above example, since str() or __str__ is not defined, then str(obj) will fallback to __repr__(). i.e. in absense of __str__ method definition, it will be called as __repr__.\n",
    "\n",
    "##############################################################################################################\n",
    "class DunderExampleStr3:\n",
    "    name = \"Kaushal\"\n",
    "\n",
    "objDES3 = DunderExampleStr3()\n",
    "print(objDES3)                          # calls str(objDES3) -->[str Not Found as no default definition] --> So, will call repr(objDES3)\n",
    "print(str(objDES3))                     # [str Not Found as no default definition] --> So, will call repr(objDES3)\n",
    "print(repr(objDES3))                    # will call repr(objDES3)\n",
    "\n",
    "# Here, str and repr both are absent, so python will call standard/default definition of repr for str. Please note that there is no default definition for str itself in python.\n"
   ]
  },
  {
   "cell_type": "code",
   "execution_count": 47,
   "metadata": {},
   "outputs": [
    {
     "name": "stdout",
     "output_type": "stream",
     "text": [
      "__repr__ representation of the datetime(2025, 06, 17, 10, 27, 43) is\t: datetime.datetime(2025, 6, 17, 10, 27, 43)\n",
      "__str__ representation of the datetime(2025, 06, 17, 10, 27, 43) is\t: 2025-06-17 10:27:43\n"
     ]
    }
   ],
   "source": [
    "# __repr__ tries to make the output resemble valid Python code that could become input again.\n",
    "# Analogy:\n",
    "# __str__ → \"Nice to read\"\n",
    "# __repr__ → \"Nice to reconstruct\"\n",
    "\n",
    "from datetime import datetime\n",
    "date1 = datetime(2025,6,17,10,27,43)\n",
    "\n",
    "print(f\"__repr__ representation of the datetime(2025, 06, 17, 10, 27, 43) is\\t: {repr(date1)}\")\n",
    "print(f\"__str__ representation of the datetime(2025, 06, 17, 10, 27, 43) is\\t: {str(date1)}\")\n"
   ]
  },
  {
   "cell_type": "markdown",
   "metadata": {},
   "source": [
    "### Note M:- \n",
    "* Why repr(datetime(....)) and str(datetime(...)) example above is giving different output?? Won't output should be exactly the same as without custom definition, str and repr behaves the same??\n",
    "    * Ans. The reason str(datetime(...)) and repr(datetime(...)) give different outputs is because the \"datetime\" class explicitly defines both __str__() and __repr__() saperately.\n",
    "#\n",
    "* So, in this case indirectly user is providing the custom definitions of the str and repr library, by importing datetime library."
   ]
  },
  {
   "cell_type": "markdown",
   "metadata": {},
   "source": [
    "### 1.14.3. \\_\\_call__() method\n",
    "\n",
    "* The call method is used to make an object callable, i.e. we can pass that object as a parameter to a function and it will be executed when the function is called. \n",
    "* This is an incredebly powerful tool which allows user to cretate objects that behaves like a function, i.e.-\n",
    "* \\_\\_call__ method in Python is used to make an instance of a class behave like a function"
   ]
  },
  {
   "cell_type": "code",
   "execution_count": 48,
   "metadata": {},
   "outputs": [
    {
     "data": {
      "text/plain": [
       "\"call method: name of the employee is 'Kaushal'\""
      ]
     },
     "execution_count": 48,
     "metadata": {},
     "output_type": "execute_result"
    }
   ],
   "source": [
    "class DunderExampleCall1:\n",
    "    name = \"Kaushal\"\n",
    "\n",
    "    def __call__(self):\n",
    "        return f\"call method: name of the employee is '{self.name}'\"\n",
    "\n",
    "objDES1 = DunderExampleCall1()\n",
    "objDES1()"
   ]
  },
  {
   "cell_type": "code",
   "execution_count": 49,
   "metadata": {},
   "outputs": [
    {
     "name": "stdout",
     "output_type": "stream",
     "text": [
      "I was called with hello\n"
     ]
    }
   ],
   "source": [
    "class DunderExampleCall2:\n",
    "    def __call__(self, arg):\n",
    "        print(f\"I was called with {arg}\")\n",
    "\n",
    "obj = DunderExampleCall2()\n",
    "obj(\"hello\")                                    # calls obj.__call__(\"hello\")\n"
   ]
  },
  {
   "cell_type": "code",
   "execution_count": 50,
   "metadata": {},
   "outputs": [
    {
     "name": "stdout",
     "output_type": "stream",
     "text": [
      "10\n",
      "45\n"
     ]
    }
   ],
   "source": [
    "class DunderExampleCallMultiplier:\n",
    "    def __init__(self, factor):\n",
    "        self.factor = factor\n",
    "\n",
    "    def __call__(self, value):\n",
    "        return value * self.factor\n",
    "\n",
    "double = DunderExampleCallMultiplier(2)\n",
    "triple = DunderExampleCallMultiplier(3)\n",
    "\n",
    "print(double(5))  # Output: 10\n",
    "print(triple(15))  # Output: 15\n"
   ]
  },
  {
   "cell_type": "markdown",
   "metadata": {},
   "source": [
    "## 1.15. Method overriding in Python (Video 74)\n",
    "\n",
    "* It is the feature which allows an user to change a method definition in child class which was inherited from the parent class.\n",
    "* Method overriding allows to redefine the method in a derived (child) class. When you create an instance of the derived (child) class and call the overriddern method, the method definition of the child class is executed, not of the parent class.\n",
    "* In Python, method overriding is a way to customize the behaviour of a class based on its specific needs."
   ]
  },
  {
   "cell_type": "code",
   "execution_count": 51,
   "metadata": {},
   "outputs": [
    {
     "name": "stdout",
     "output_type": "stream",
     "text": [
      "Area of the rectangle of given dimension is: 20\n",
      "Area of the rectangle of given dimension is: 20\n"
     ]
    }
   ],
   "source": [
    "class MethodOverrideExample_Shape:\n",
    "    def __init__(self, x, y):\n",
    "        self.length = x\n",
    "        self.breadth = y\n",
    "    \n",
    "    def area(self):\n",
    "        print(f\"Area of the rectangle of given dimension is: {self.breadth*self.length}\")\n",
    "\n",
    "class MethodOverrideExample_Shape2(MethodOverrideExample_Shape):                            # No Method overriding here, child class uses only the inherited methods and attributes.\n",
    "    pass\n",
    "\n",
    "\n",
    "objMOES = MethodOverrideExample_Shape(4,5)\n",
    "objMOES.area()\n",
    "\n",
    "objMOES2 = MethodOverrideExample_Shape2(4,5)\n",
    "objMOES2.area()\n"
   ]
  },
  {
   "cell_type": "code",
   "execution_count": 52,
   "metadata": {},
   "outputs": [
    {
     "name": "stdout",
     "output_type": "stream",
     "text": [
      "Area of the rectangle of given dimension is: 20\n",
      "Area of the equi. triangle of given dimension is: 10.0\n"
     ]
    }
   ],
   "source": [
    "class MethodOverrideExample_Shape3:\n",
    "    def __init__(self, x, y):\n",
    "        self.length = x\n",
    "        self.breadth = y\n",
    "    \n",
    "    def area(self):\n",
    "        print(f\"Area of the rectangle of given dimension is: {self.breadth*self.length}\")\n",
    "\n",
    "class MethodOverrideExample_Shape4(MethodOverrideExample_Shape3):\n",
    "    # def __init__():           # init is not defined so it will auto-inherit and use parent class's init method, if we want to change the init method for this class then we can define another init here.\n",
    "    \n",
    "    def area(self):             # //Method Overriding//        Changing the definition of the parent method of the same name.\n",
    "        print(f\"Area of the equi. triangle of given dimension is: {self.breadth*self.length/2}\")\n",
    "    # pass\n",
    "\n",
    "objMOES = MethodOverrideExample_Shape3(4,5)\n",
    "objMOES.area()\n",
    "\n",
    "objMOES2 = MethodOverrideExample_Shape4(4,5)\n",
    "objMOES2.area()\n"
   ]
  },
  {
   "cell_type": "code",
   "execution_count": 53,
   "metadata": {},
   "outputs": [
    {
     "name": "stdout",
     "output_type": "stream",
     "text": [
      "Area of the rectangle of given dimension is: 20\n",
      "Area of the rectangle of given dimension is: 20\n",
      "Area of the equi. triangle of given dimension is: 10.0\n"
     ]
    }
   ],
   "source": [
    "# Above example using \"super\" keyword.\n",
    "\n",
    "class MethodOverrideExample_Shape_1:\n",
    "    def __init__(self, x, y):\n",
    "        self.length = x\n",
    "        self.breadth = y\n",
    "    \n",
    "    def area(self):\n",
    "        print(f\"Area of the rectangle of given dimension is: {self.breadth*self.length}\")\n",
    "        return self.breadth*self.length\n",
    "\n",
    "class MethodOverrideExample_Shape_2(MethodOverrideExample_Shape_1):\n",
    "    # def __init__():           is not defined so it will auto-inherit and use parent class's init method, if we want to change the init method for this class then we can define another init here.\n",
    "\n",
    "    def area(self):                                                                                         # Changing the definition of the parent method of the same name.\n",
    "        print(f\"Area of the equi. triangle of given dimension is: {super().area()/2}\")\n",
    "\n",
    "objMOES = MethodOverrideExample_Shape_1(4,5)\n",
    "objMOES.area()\n",
    "\n",
    "objMOES2 = MethodOverrideExample_Shape_2(4,5)\n",
    "objMOES2.area()\n"
   ]
  },
  {
   "cell_type": "markdown",
   "metadata": {},
   "source": [
    "### Note N:-\n",
    "* Imp Tip: When dealing with methods or function prefer return statement instead of print() statement. If necessary to print it can be printed using the return value. It increases usability, without altering the function/method."
   ]
  },
  {
   "cell_type": "code",
   "execution_count": 54,
   "metadata": {},
   "outputs": [
    {
     "name": "stdout",
     "output_type": "stream",
     "text": [
      "Area of the Circle of given radius is: 314.0\n"
     ]
    }
   ],
   "source": [
    "# Above example using \"super\" keyword and area of circle.\n",
    "\n",
    "class MethodOverrideExample_Shape_Rect:\n",
    "    def __init__(self, x, y):\n",
    "        self.length = x\n",
    "        self.breadth = y\n",
    "    \n",
    "    def area(self):\n",
    "        return self.breadth*self.length\n",
    "\n",
    "class MethodOverrideExample_circle2(MethodOverrideExample_Shape_Rect):\n",
    "    def __init__(self, radius):           # It needs to be redefined as initially we were taking two parameter but now (for circle) we will be taking only one parameter which is radius.\n",
    "        super().__init__(radius, radius)\n",
    "\n",
    "    def area(self):                                                                                         # Changing the definition of the parent method of the same name.\n",
    "        print(f\"Area of the Circle of given radius is: {3.14 * super().area()}\")\n",
    "\n",
    "objMOES2 = MethodOverrideExample_circle2(10)\n",
    "objMOES2.area()\n"
   ]
  },
  {
   "cell_type": "markdown",
   "metadata": {},
   "source": [
    "### Note O:-\n",
    "* We can override a parent-class method in the child-class, and we can still use the overridden parent-class method in child-class with the help of super() keyword."
   ]
  },
  {
   "cell_type": "markdown",
   "metadata": {},
   "source": [
    "### Exercise 7. Solution (Video 75)"
   ]
  },
  {
   "cell_type": "markdown",
   "metadata": {},
   "source": [
    "### Exercise 8. (PDF Merging) (Video 76)\n",
    "* use pypdf library (an open source library)."
   ]
  },
  {
   "cell_type": "markdown",
   "metadata": {},
   "source": [
    "## 1.16. Operator Overloading in Python (Video 77)\n",
    "\n",
    "* Operator overloading is a feature in Python that allows developer to redefine the behaviour of mathematical and comparision operators for customs data-type.\n",
    "* This means user can use the standard mathematical operators (+,-,*,/ etc) and comparision operators (>,<,== etc.) in there own classes with their own definitions. They can be used just as usual but with new definitions.\n",
    "* Operator overloading allows you to create more readable and intuitive code."
   ]
  },
  {
   "cell_type": "code",
   "execution_count": 55,
   "metadata": {},
   "outputs": [
    {
     "name": "stdout",
     "output_type": "stream",
     "text": [
      "2i + 3j + 4k\n",
      "3i + 4j + 5k\n"
     ]
    }
   ],
   "source": [
    "# E.g. Make two vectors print and add them. We want result vector in vector form not the string.\n",
    "\n",
    "class OperatorOverloading_Vector:\n",
    "    def __init__(self, i, j, k):\n",
    "        self.i = i\n",
    "        self.j = j\n",
    "        self.k = k\n",
    "    \n",
    "    def __str__(self):\n",
    "        # self.vector = complex(self.i,self.j,self.k)\n",
    "        return f\"{self.i}i + {self.j}j + {self.k}k\"\n",
    "        \n",
    "objOOV1 = OperatorOverloading_Vector(2,3,4)\n",
    "objOOV2 = OperatorOverloading_Vector(3,4,5)\n",
    "\n",
    "print(objOOV1)                              # Please recall that printing the object by default calls __str__() method, which calls __rep__() method. It by default gives memory location of the object unless overridden.\n",
    "print(objOOV2)                              \n",
    "\n",
    "# Can we add above two vectors?\n",
    "# print(objOOV1+ objOOV1)                   # This will give error (unless __add__ method is re-defined by user) because standard add definition want number inputs.\n",
    "                                            # For this we will have to tweak/override the definition of the builtin add for this class."
   ]
  },
  {
   "cell_type": "code",
   "execution_count": 56,
   "metadata": {},
   "outputs": [
    {
     "name": "stdout",
     "output_type": "stream",
     "text": [
      "2i + 3j + 4k\n",
      "3i + 4j + 5k\n",
      "5i + 7j + 9k\n",
      "<class '__main__.OperatorOverloading_Vector2'>\n"
     ]
    }
   ],
   "source": [
    "# E.g. Make two vectors print and add them. We want result vector in vector form not the string.\n",
    "\n",
    "class OperatorOverloading_Vector2:\n",
    "    def __init__(self, i, j, k):\n",
    "        self.i = i\n",
    "        self.j = j\n",
    "        self.k = k\n",
    "    \n",
    "    def __str__(self):                      # Please recall that printing the object by default calls __str__() method, which calls __rep__() method. It by default gives memory location of the object unless overridden.\n",
    "        # self.vector = complex(self.i,self.j,self.k)\n",
    "        return f\"{self.i}i + {self.j}j + {self.k}k\"\n",
    "    \n",
    "    def __add__(self, x):\n",
    "        # return f\"{self.i + x.i}i + {self.j + x.j}j + {self.k + x.k}k\"                         # This will give string output\n",
    "        return OperatorOverloading_Vector2(self.i + x.i, self.j + x.j, self.k + x.k)            # This will give the output of format defined in __str__() method, i.e. class '__main__.OperatorOverloading_Vector2\n",
    "\n",
    "        \n",
    "objOOV2_1 = OperatorOverloading_Vector2(2,3,4)\n",
    "objOOV2_2 = OperatorOverloading_Vector2(3,4,5)\n",
    "\n",
    "print(objOOV2_1)                              # Please recall that printing the object by default calls __str__() method, which calls __rep__() method. It by default gives memory location of the object unless overridden.\n",
    "print(objOOV2_2)\n",
    "\n",
    "# Can we add above two vectors?\n",
    "print(objOOV2_1 + objOOV2_2)\n",
    "\n",
    "print(type(objOOV2_1 + objOOV2_2))\n"
   ]
  },
  {
   "cell_type": "markdown",
   "metadata": {},
   "source": [
    "### Note P:- \n",
    "* Please read the python documentation from Python docx about vaious operators and there methods, to get more familiarity and what they by default do. This will help in overriding them as well.\n",
    "* E.g. (\\_\\_add__ for +, \\_\\_sub__ for -, \\_\\_mul__ for *, \\_\\_matmul__ for matrix multiplication, \\_\\_truediv__ for /, \\_\\_floordiv__ for // etc.)"
   ]
  },
  {
   "cell_type": "markdown",
   "metadata": {},
   "source": [
    "## 1.17. Single Inheritance in python (Video 78)\n",
    "\n",
    "* Most common type of inheritence in Python.\n",
    "* Single inheritance is a type of inheritence in Python where a inherited (child) class inherits properties and behaviours from a single parent class.\n",
    "* Single inheritanve allows an user to create new classes based on existing classes. It allows user to reuse code, extend it to fit your needs, and makes it easier to manage complex systems."
   ]
  },
  {
   "cell_type": "code",
   "execution_count": 57,
   "metadata": {},
   "outputs": [
    {
     "name": "stdout",
     "output_type": "stream",
     "text": [
      "Sound made by Animal Species 'Dog' is 'Bark'.\n",
      "Sound made by Animal Species 'Dog' and breed 'Siberian Huskey' is 'Woof'.\n",
      "Sound made by animal of species 'Cat' is 'Meow'. One of the color of this Animal is 'Orange'.\n",
      "Sound made by Animal Species 'Cat' is 'Meow'.\n"
     ]
    }
   ],
   "source": [
    "# Consider a class named Animal which contains all the information, attributes and behaviours which are common about all animals.\n",
    "# Make a child class which will inherit these common attributes but may define some additional non common attributes like sound, breed etc.\n",
    "\n",
    "class SingleInheritance_Animal:\n",
    "    def __init__(self, species, sound):\n",
    "        self.sound = sound\n",
    "        self.species = species \n",
    "\n",
    "    def make_sound(self):\n",
    "        print(f\"Sound made by Animal Species '{self.species}' is '{self.sound}'.\")\n",
    "\n",
    "objSIA1 = SingleInheritance_Animal(\"Dog\", \"Bark\")\n",
    "objSIA1.make_sound()\n",
    "\n",
    "class SingleInheritance_Dog(SingleInheritance_Animal):\n",
    "    def __init__(self, sound, breed):\n",
    "        super().__init__(\"Dog\", sound)                                                              # Species is fixed as Dog for class Dog.\n",
    "        self.breed = breed\n",
    "\n",
    "    def make_sound(self):                                                                           # This overrides the parent method of same name in Dog class.\n",
    "        print(f\"Sound made by Animal Species '{self.species}' and breed '{self.breed}' is '{self.sound}'.\")\n",
    "\n",
    "objSIA1 = SingleInheritance_Dog(\"Woof\", \"Siberian Huskey\")\n",
    "objSIA1.make_sound()\n",
    "\n",
    "# Quiz: use Animal class and make a new class named Cat. Add some methods specific to cat.\n",
    "\n",
    "class SingleInheritance_Cat(SingleInheritance_Animal):\n",
    "    def __init__(self, sound, color):\n",
    "        super().__init__(\"Cat\", sound)\n",
    "        self.color = color\n",
    "    \n",
    "    def __str__(self):\n",
    "        return f\"Sound made by animal of species '{self.species}' is '{self.sound}'. One of the color of this Animal is '{self.color}'.\"\n",
    "\n",
    "objSIC1 = SingleInheritance_Cat(\"Meow\", \"Orange\")\n",
    "print(objSIC1)\n",
    "objSIC1.make_sound()"
   ]
  },
  {
   "cell_type": "markdown",
   "metadata": {},
   "source": [
    "## 1.18. Multiple Inheritance in Python (Video 79) \n",
    "* Multiple inheritance allows a class to inherit attributes and methods from multiple parent-classes. It is very usefull when a class need to inherit functionality from multiple sources."
   ]
  },
  {
   "cell_type": "markdown",
   "metadata": {},
   "source": [
    "### Note Q:-\n",
    "\n",
    "* When there are multiple methods of same name in the different parent-classes, and an inherited (child) class is inheriting from all these classes through multiple inheritance e.g. ClassC (ClassA, ClassB, ...). Now, if we call any such parent-class-method via child class then it will be first searched in ClassA then ClassB and so on in the same order as they are mentioned in the child class.\n",
    "\n",
    "* super() keyword also follow same logic of preffering the parent-class (not child-class) who appears first in MRO defined order. This is usually the 2nd in MRO ranking i.e. just after the Child-class itself.\n",
    "\n",
    "* To get the order of the parent-classes or objects, we can use following syntax:- \"ChildClassName.\\_\\_mro__\" (without ending parenthesis) or \"ChildClassName.mro()\".\n",
    "\n",
    "* In case despite equal named methods, we need to call a particular methood not from the 1st class (1st according to mro order), then we can do one of the below two things:\n",
    "    * Interchange the class order such that the class with the particular method is first in mro order. Or,\n",
    "    * call the method as ParentClass.MethodName(). This method can be used to call any method from any class.\n",
    "\n",
    "* Please note that child class is usually 1st in the MRO order (i.e. the methods defined/re-defined in it has the highest preferance)."
   ]
  },
  {
   "cell_type": "code",
   "execution_count": 58,
   "metadata": {},
   "outputs": [
    {
     "name": "stdout",
     "output_type": "stream",
     "text": [
      "[<class '__main__.MultipleInheritance_DancerEmployee1'>, <class '__main__.MultipleInheritance_Dancer1'>, <class '__main__.MultipleInheritance_Employee1'>, <class 'object'>]\n",
      "'Shivani' is a dancer in 'Khesari Orchestra Group'. He/She is professional in 'Kathak Dance'.\n"
     ]
    }
   ],
   "source": [
    "class MultipleInheritance_Employee1:\n",
    "    def __init__(self, emp_id, name):\n",
    "        self.emp_id = emp_id\n",
    "        self.name = name\n",
    "\n",
    "    def show(self):\n",
    "        print(f\"Name of the employee with emp_id '{self.emp_id}' is '{self.name}'.\")\n",
    "    \n",
    "class MultipleInheritance_Dancer1:\n",
    "    def __init__(self, name, dance_group, dance_name):\n",
    "        self.name = name\n",
    "        self.dance_group = dance_group\n",
    "        self.dance_name = dance_name\n",
    "    \n",
    "    def show(self):\n",
    "        print(f\"'{self.name}' is a dancer in '{self.dance_group}'. He/She is professional in '{self.dance_name}'.\")\n",
    "    \n",
    "class MultipleInheritance_DancerEmployee1 (MultipleInheritance_Dancer1, MultipleInheritance_Employee1):\n",
    "    def __init__(self, emp_id, name, dance_name, dance_group):\n",
    "        MultipleInheritance_Employee1.__init__(self, emp_id, name)\n",
    "        MultipleInheritance_Dancer1.__init__(self, name, dance_group, dance_name)\n",
    "    \n",
    "    def showDanceEmployee(self):\n",
    "        print(f\"Name of the employee with emp_id '{self.emp_id}' is '{self.name}'. He is also a professional dancer in '{self.dance_name}' with '{self.dance_group}'.\")\n",
    "\n",
    "objMIE2 = MultipleInheritance_Employee1(225904, \"Raman\")\n",
    "objMID2 = MultipleInheritance_Dancer1(\"Raman\", \"Nirahua Orchestra Group\", \"Break Dance\")\n",
    "objMIDE2 = MultipleInheritance_DancerEmployee1(12956, \"Shivani\", \"Kathak Dance\", \"Khesari Orchestra Group\")\n",
    "\n",
    "# objMIE2.show()\n",
    "# objMID2.show()\n",
    "print(MultipleInheritance_DancerEmployee1.mro())\n",
    "# print(MultipleInheritance_DancerEmployee1.__mro__)       # Same output (except the datatype is tuple instead of list) as above line of code\n",
    "objMIDE2.show()             # Even though \"show\" method is present in both parent class, it will be executed from that parent class which is higher in MRO rankings i.e. from 'MultipleInheritance_Dancer1'."
   ]
  },
  {
   "cell_type": "code",
   "execution_count": 59,
   "metadata": {},
   "outputs": [
    {
     "name": "stdout",
     "output_type": "stream",
     "text": [
      "Name of the employee with emp_id '225904' is 'Raman'.\n",
      "'Raman' is a dancer in 'Nirahua Orchestra Group'. He/She is professional in 'Break Dance'.\n",
      "Name of the employee with emp_id '12956' is 'Shivani'. He is also a professional dancer in 'Kathak Dance' with 'Khesari Orchestra Group'.\n"
     ]
    }
   ],
   "source": [
    "class MultipleInheritance_Employee:\n",
    "    def __init__(self, emp_id, name):\n",
    "        self.emp_id = emp_id\n",
    "        self.name = name\n",
    "\n",
    "    def __str__(self):\n",
    "        return f\"Name of the employee with emp_id '{self.emp_id}' is '{self.name}'.\"\n",
    "    \n",
    "class MultipleInheritance_Dancer:\n",
    "    def __init__(self, name, dance_group, dance_name):\n",
    "        self.name = name\n",
    "        self.dance_group = dance_group\n",
    "        self.dance_name = dance_name\n",
    "    \n",
    "    def __str__(self):\n",
    "        return f\"'{self.name}' is a dancer in '{self.dance_group}'. He/She is professional in '{self.dance_name}'.\"\n",
    "    \n",
    "class MultipleInheritance_DancerEmployee(MultipleInheritance_Employee, MultipleInheritance_Dancer):\n",
    "    def __init__(self, emp_id, name, dance_name, dance_group):\n",
    "        MultipleInheritance_Employee.__init__(self, emp_id, name)\n",
    "        MultipleInheritance_Dancer.__init__(self, name, dance_group, dance_name)\n",
    "    \n",
    "    def __str__(self):\n",
    "        return f\"Name of the employee with emp_id '{self.emp_id}' is '{self.name}'. He is also a professional dancer in '{self.dance_name}' with '{self.dance_group}'.\"\n",
    "\n",
    "objMIE1 = MultipleInheritance_Employee(225904, \"Raman\")\n",
    "objMID1 = MultipleInheritance_Dancer(\"Raman\", \"Nirahua Orchestra Group\", \"Break Dance\")\n",
    "objMIDE1 = MultipleInheritance_DancerEmployee(12956, \"Shivani\", \"Kathak Dance\", \"Khesari Orchestra Group\")\n",
    "\n",
    "print(objMIE1)\n",
    "print(objMID1)\n",
    "print(objMIDE1)"
   ]
  },
  {
   "cell_type": "markdown",
   "metadata": {},
   "source": [
    "## 1.19. Multilevel Inheritance in Python (Video 80)\n",
    "\n",
    "* MultiLevel inheritance is a type of inheritance where a derived class inherits from another derived class.\n",
    "* This type of inheritance allows user to build a hierarchy of classes where one class build upon amother, leading to a more specialized class.\n",
    "* Syntax of multilevel inheritance is same as single inheritance.\n"
   ]
  },
  {
   "cell_type": "markdown",
   "metadata": {},
   "source": [
    "### Note R:-\n",
    "* In Multilavel inheritance (suppose: Parent1 --> Parent2 --> Parent3 --> Child1), in case a function/method is called from child class then it will be executed from child_class, in case it doesn't class then it will be searched is closest parent i.e. Parent3. If that method is not found in Parent3 then it will be searched in Parent2 and if even then it is not found, then finally it will be searched in Parent1.\n",
    "\n",
    "* super() keyword in mutlilavel inheritance refers to the nearest parent i.e. the parent class from which the child class is directly inheriting. E.g. in above example of (Parent1 --> Parent2 --> Parent3 --> Child1), for Child1 class super keyword denotes Parent3, for Parent3 super keyword denotes Parent2 and so on."
   ]
  },
  {
   "cell_type": "code",
   "execution_count": 60,
   "metadata": {},
   "outputs": [],
   "source": [
    "class MultilevelInheritance_Employee:\n",
    "    def __init__(self, emp_id, name, department):\n",
    "        self.emp_id = emp_id\n",
    "        self.name = name\n",
    "        self.department = department\n",
    "\n",
    "    def __str__(self):\n",
    "        return f\"This is employee {self.name} (emp id: {self.emp_id}).\"\n",
    "\n",
    "    def show(self):\n",
    "        return f\"The employee {self.name} ({self.emp_id}) is from {self.department} department.\"\n",
    "    \n",
    "\n",
    "class MultilevelInheritance_Manager(MultilevelInheritance_Employee):\n",
    "    def __init__(self, emp_id, manager_id, name, department):\n",
    "        super().__init__(emp_id, name, department)\n",
    "        self.manager_id = manager_id\n",
    "    \n",
    "    def __str__(self):\n",
    "        return f\"This is Manager {self.name} (manager id: {self.manager_id}).\"\n",
    "\n",
    "    def show(self):\n",
    "        return f\"This Manager {self.name} (emp id: {self.emp_id}) is from {self.department} department.\\nHe/She is also a manager with manager id {self.manager_id}.\"\n",
    "\n",
    "\n",
    "class MultilevelInheritance_Chief(MultilevelInheritance_Manager):\n",
    "    def __init__(self, emp_id, manager_id, chief_id, name, department, c_suite_designation):\n",
    "        super().__init__(emp_id, manager_id, name, department)\n",
    "        self.chief_id = chief_id\n",
    "        self.c_suite_designation = c_suite_designation\n",
    "    \n",
    "    def __str__(self):\n",
    "        return f\"This is Chief {self.name} (chief id: {self.chief_id}).\"\n",
    "\n",
    "    # def show(self):\n",
    "    #     return f\"This Manager {self.name} (emp id: {self.emp_id}) is from {self.department} department.\\nHe/She is also a manager with manager id {self.manager_id}.\\nHe/She is also {self.c_suite_designation} of the company with chief id {self.chief_id}.\"\n"
   ]
  },
  {
   "cell_type": "code",
   "execution_count": 61,
   "metadata": {},
   "outputs": [
    {
     "name": "stdout",
     "output_type": "stream",
     "text": [
      "This Manager Pravin Kaushal (emp id: 225904) is from Analytics department.\n",
      "He/She is also a manager with manager id 336015.\n"
     ]
    }
   ],
   "source": [
    "objMIC1 = MultilevelInheritance_Chief(225904, 336015, 447126, \"Pravin Kaushal\", \"Analytics\", \"COO\")\n",
    "# print(objMIC1)\n",
    "print(objMIC1.show())"
   ]
  },
  {
   "cell_type": "markdown",
   "metadata": {},
   "source": [
    "## 1.20. Hybrid and Hierarchical Inheritance in Python (Video 81)\n",
    "### 1.20.1. Hybrid Inheritance:\n",
    "* Hybrid inheritance is a combination of multiple inheritance and single inheritance in object oriented programming.\n",
    "* It is a type of inheritance in which multiple inheritance is used to inherit the properties of multiple base classes into a single derived class, and single inheritance is used to inherit the properties of the derived class into sub-derived class.\n"
   ]
  },
  {
   "cell_type": "code",
   "execution_count": 62,
   "metadata": {},
   "outputs": [],
   "source": [
    "## An example of HYBRID INHERITANCE--\n",
    "\n",
    "class HybridInheritance_BaseClass:\n",
    "    pass\n",
    "\n",
    "class HybridInheritance_DerivedClass(HybridInheritance_BaseClass):              # Single Inheritance\n",
    "    pass\n",
    "\n",
    "class HybridInheritance_DerivedClass2(HybridInheritance_BaseClass):             # Single Inheritance\n",
    "    pass\n",
    "\n",
    "class HybridInheritance_DerivedClass3(HybridInheritance_DerivedClass, HybridInheritance_DerivedClass2):             # Multiple Inheritance\n",
    "    pass\n",
    "\n",
    "\n",
    "# All above classes are called Hybrid inheritance as they have >=2 type of inheritance (i.e. single and multiple in this example.). \n",
    "# Please note that the type of inheritance can be any of two or more than two, i.e. single/multiple, single/multilevel, multilevel/multiple/single etc.\n",
    "\n",
    "# Properties of it e have already learnt, they remain the same, as before."
   ]
  },
  {
   "cell_type": "markdown",
   "metadata": {},
   "source": [
    "### 1.20.2. Hierarchical Inheritance:\n",
    "\n",
    "* It is a type of inheritance where multiple subclasses inherit from a single base class, and so on."
   ]
  },
  {
   "cell_type": "code",
   "execution_count": 63,
   "metadata": {},
   "outputs": [],
   "source": [
    "class Base1:\n",
    "    pass\n",
    "\n",
    "class Derived1(Base1):              # 1st hierarchy\n",
    "    pass\n",
    "\n",
    "class Derived2(Base1):              # 1st hierarchy\n",
    "    pass\n",
    "\n",
    "class DerivedDerived1(Derived1):    # 2nd Hierarchy\n",
    "    pass\n",
    "\n",
    "class DerivedDerived1(Derived1):    # 2nd Hierarchy\n",
    "    pass"
   ]
  },
  {
   "cell_type": "code",
   "execution_count": null,
   "metadata": {},
   "outputs": [],
   "source": []
  },
  {
   "cell_type": "code",
   "execution_count": null,
   "metadata": {},
   "outputs": [],
   "source": []
  },
  {
   "cell_type": "markdown",
   "metadata": {},
   "source": [
    "Sure! Here are **two tough Python class problems** for you to challenge your skills on object-oriented programming, design, and problem-solving:\n",
    "\n",
    "---\n",
    "\n",
    "### Problem 1: Design a File System Simulator with Permissions\n",
    "\n",
    "**Description:**\n",
    "Create a class-based file system simulator where you can create files and folders, move them around, and handle user permissions (read, write, execute). The system should support multiple users and groups, and enforce permissions properly.\n",
    "\n",
    "**Requirements:**\n",
    "\n",
    "* Implement classes for `File`, `Folder`, `User`, and `Group`.\n",
    "* Each `File` and `Folder` has an owner (a `User`), a group (a `Group`), and a set of permissions (`rwx` for owner, group, and others).\n",
    "* Support methods:\n",
    "\n",
    "  * Create file/folder inside a folder\n",
    "  * Delete file/folder (only if permissions allow)\n",
    "  * Move file/folder from one folder to another\n",
    "  * Change permissions (`chmod`) and ownership (`chown`)\n",
    "  * Check permissions for a user before any operation\n",
    "* Support a command like interface or methods to simulate basic shell commands like `ls`, `cd`, `chmod`, `chown`, `mv`, `rm`.\n",
    "\n",
    "**Challenge:**\n",
    "Enforce correct permissions checking on every operation and maintain folder hierarchy. Bonus points for handling symbolic links or shortcuts!\n",
    "\n",
    "---\n",
    "\n",
    "### Problem 2: Implement a Custom Matrix Class with Advanced Operations\n",
    "\n",
    "**Description:**\n",
    "Implement a `Matrix` class from scratch (without using NumPy or any external libraries) that supports advanced operations and properties.\n",
    "\n",
    "**Requirements:**\n",
    "\n",
    "* Support matrix initialization from nested lists.\n",
    "* Implement methods for:\n",
    "\n",
    "  * Matrix addition, subtraction, and multiplication (both scalar and matrix multiplication)\n",
    "  * Transpose of the matrix\n",
    "  * Determinant calculation (for square matrices)\n",
    "  * Inverse of the matrix (if invertible)\n",
    "  * Check if the matrix is symmetric, orthogonal, or identity\n",
    "  * Raise a matrix to an integer power\n",
    "* Support operator overloading for `+`, `-`, `*`, and `**` (power).\n",
    "* Proper error handling for invalid operations (e.g., dimension mismatch, non-invertible matrix).\n",
    "\n",
    "**Challenge:**\n",
    "Optimize determinant and inverse calculations for larger matrices and ensure numerical stability.\n",
    "\n",
    "---\n",
    "\n",
    "Would you like me to provide starter code or hints for any of these? Or do you want more problems like these?\n"
   ]
  },
  {
   "cell_type": "markdown",
   "metadata": {},
   "source": [
    "### Problem 1: Design a File System Simulator with Permissions\n",
    "\n",
    "**Description:**\n",
    "Create a class-based file system simulator where you can create files and folders, move them around, and handle user permissions (read, write, execute). The system should support multiple users and groups, and enforce permissions properly.\n",
    "\n",
    "**Requirements:**\n",
    "\n",
    "* Implement classes for `File`, `Folder`, `User`, and `Group`.\n",
    "* Each `File` and `Folder` has an owner (a `User`), a group (a `Group`), and a set of permissions (`rwx` for owner, group, and others).\n",
    "* Support methods:\n",
    "\n",
    "  * Create file/folder inside a folder\n",
    "  * Delete file/folder (only if permissions allow)\n",
    "  * Move file/folder from one folder to another\n",
    "  * Change permissions (`chmod`) and ownership (`chown`)\n",
    "  * Check permissions for a user before any operation\n",
    "* Support a command like interface or methods to simulate basic shell commands like `ls`, `cd`, `chmod`, `chown`, `mv`, `rm`.\n",
    "\n",
    "**Challenge:**\n",
    "Enforce correct permissions checking on every operation and maintain folder hierarchy. Bonus points for handling symbolic links or shortcuts!\n",
    "\n",
    "---\n"
   ]
  },
  {
   "cell_type": "markdown",
   "metadata": {},
   "source": [
    "#### Structure of program:\n",
    "\n",
    "<!-- user-list saved in the program with their pass keys. -->\n",
    "<!-- user passes his username-and-passcode from an instance of the class -->\n",
    "<!-- validation of the user -->"
   ]
  },
  {
   "cell_type": "code",
   "execution_count": 64,
   "metadata": {},
   "outputs": [],
   "source": [
    "# class FileSystemSimulator:\n",
    "\n",
    "#     user_passcode = {\"Ram_User\":\"HLUYnbw223\", \"Shyam_user\":\"2uhFKHUf2\", \"Pravin_Admin\":\"tysnduHWBSJ892634\", \"Kaushal_Manager\":\"TSUbftwjw92873028\"}\n",
    "\n",
    "#     def __init__(self, user, passcode):\n",
    "#         self.user = user\n",
    "#         self.passcode = passcode\n",
    "\n",
    "#     def uservalidation(self):\n",
    "#         pass\n",
    "\n",
    "#     def folder(self):\n",
    "#         pass"
   ]
  }
 ],
 "metadata": {
  "kernelspec": {
   "display_name": "Python 3",
   "language": "python",
   "name": "python3"
  },
  "language_info": {
   "codemirror_mode": {
    "name": "ipython",
    "version": 3
   },
   "file_extension": ".py",
   "mimetype": "text/x-python",
   "name": "python",
   "nbconvert_exporter": "python",
   "pygments_lexer": "ipython3",
   "version": "3.12.0"
  }
 },
 "nbformat": 4,
 "nbformat_minor": 2
}
