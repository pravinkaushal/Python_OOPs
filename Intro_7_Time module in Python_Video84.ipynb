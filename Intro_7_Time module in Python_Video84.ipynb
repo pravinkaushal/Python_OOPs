{
 "cells": [
  {
   "cell_type": "markdown",
   "id": "6196a183",
   "metadata": {},
   "source": [
    "# Video 84: \"time\" Module in Python-\n",
    "\n"
   ]
  },
  {
   "cell_type": "code",
   "execution_count": 19,
   "id": "f82b35cb",
   "metadata": {},
   "outputs": [
    {
     "name": "stdout",
     "output_type": "stream",
     "text": [
      "1750573510.8354118\n",
      "Sun Jun 22 11:55:10 2025\n",
      "Thu Jan  1 05:30:00 1970\n",
      "time.struct_time(tm_year=1970, tm_mon=1, tm_mday=1, tm_hour=0, tm_min=0, tm_sec=0, tm_wday=3, tm_yday=1, tm_isdst=0)\n",
      "2025-06-22 11:55:10\n"
     ]
    }
   ],
   "source": [
    "import time\n",
    "print(time.time())                     # Returns current time (in seconds) since Epoch. Epoch is point where time started for the system (mostly it is: Jan 1, 1970).\n",
    "\n",
    "print(time.ctime())                    # Give current time in readable format\n",
    "print(time.ctime(0))                   # Give Epoch time in readable format\n",
    "\n",
    "print(time.gmtime(0))\n",
    "\n",
    "timelocal = time.localtime()\n",
    "formatted_time = time.strftime(\"%Y-%m-%d %H:%M:%S\", timelocal)\n",
    "print(formatted_time)"
   ]
  },
  {
   "cell_type": "markdown",
   "id": "84b687e0",
   "metadata": {},
   "source": [
    "## time.time()   can bee used to get approximate time to run a program."
   ]
  },
  {
   "cell_type": "code",
   "execution_count": 7,
   "id": "d196be46",
   "metadata": {},
   "outputs": [
    {
     "name": "stdout",
     "output_type": "stream",
     "text": [
      "598749988025000000\n",
      "9.642707109451294\n"
     ]
    }
   ],
   "source": [
    "# time.time()   can bee used to get approximate time to run a program e.g.\n",
    "\n",
    "init_time = time.time()\n",
    "sum = 0\n",
    "for i in range(1,50000000):\n",
    "    p = i*479\n",
    "    sum = sum+p\n",
    "\n",
    "print(sum)\n",
    "print(time.time() - init_time)"
   ]
  },
  {
   "cell_type": "code",
   "execution_count": 8,
   "id": "860acb35",
   "metadata": {},
   "outputs": [
    {
     "name": "stdout",
     "output_type": "stream",
     "text": [
      "598749988025000000\n",
      "12.424372911453247\n"
     ]
    }
   ],
   "source": [
    "# time.time()   can bee used to get approximate time to run a program e.g.\n",
    "\n",
    "init_time = time.time()\n",
    "sum = 0\n",
    "i = 1\n",
    "while i<50000000:\n",
    "    p = i*479\n",
    "    sum = sum+p\n",
    "    i += 1\n",
    "\n",
    "print(sum)\n",
    "print(time.time() - init_time)"
   ]
  },
  {
   "cell_type": "markdown",
   "id": "1cd68c1a",
   "metadata": {},
   "source": [
    "### Note: For loop is faster because, it doesn't have to check for any condition on each iteration. for loop also doesn't need to increment the iterable (e.g. i in above case) manually.\n",
    "### Although, many people say that they both are same under the hood. (So, pls check with other sources as well before concrete answer.)"
   ]
  },
  {
   "cell_type": "markdown",
   "id": "64b80d59",
   "metadata": {},
   "source": [
    "# Formatting the time in wanted format"
   ]
  },
  {
   "cell_type": "code",
   "execution_count": 15,
   "id": "96c7b376",
   "metadata": {},
   "outputs": [
    {
     "name": "stdout",
     "output_type": "stream",
     "text": [
      "2025-06-21 23:31:19\n",
      "2025--06--21 23~31~19\n",
      "2025x06x21 23z31z19\n"
     ]
    }
   ],
   "source": [
    "timelocal = time.localtime()\n",
    "formatted_time = time.strftime(\"%Y-%m-%d %H:%M:%S\", timelocal)\n",
    "formatted_time_v2 = time.strftime(\"%Y--%m--%d %H~%M~%S\", timelocal)\n",
    "formatted_time_v3 = time.strftime(\"%Yx%mx%d %Hz%Mz%S\", timelocal)                   # Please note that we can keep any delimiter between the Year,day,month,hour, min, sec etc.\n",
    "\n",
    "print(formatted_time)\n",
    "print(formatted_time_v2)\n",
    "print(formatted_time_v3)"
   ]
  }
 ],
 "metadata": {
  "kernelspec": {
   "display_name": "Python 3",
   "language": "python",
   "name": "python3"
  },
  "language_info": {
   "codemirror_mode": {
    "name": "ipython",
    "version": 3
   },
   "file_extension": ".py",
   "mimetype": "text/x-python",
   "name": "python",
   "nbconvert_exporter": "python",
   "pygments_lexer": "ipython3",
   "version": "3.12.0"
  }
 },
 "nbformat": 4,
 "nbformat_minor": 5
}
