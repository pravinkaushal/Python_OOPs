{
 "cells": [
  {
   "cell_type": "markdown",
   "id": "2dc331cd",
   "metadata": {},
   "source": [
    "There are 4 type of arguments that we can provide to a function.\n",
    "* Default Arguments (function uses default values in case value of an argument is not passsed when calling the function. Provided during function creation.)\n",
    "* KeyWord Arguments (we need to follow proper order when passing the arguments to the function. Alternatively we can pass arguments in any order but we need to specify the variable name as well, e.g. a=9, c=2, b=11). Here, if we are passing arguments like keyword=value, we needn't follow any particular order.\n",
    "* Variable Arguments\n",
    "* Required Arguments (The function arguments for which default values are not set. They must be passed when calling the function.)\n",
    "\n",
    "Passing arguments to the function using args (tuples) and kwargs (dictionaries):\n",
    "\n"
   ]
  },
  {
   "cell_type": "markdown",
   "id": "61467800",
   "metadata": {},
   "source": [
    "## *args and **kwargs are mostly used to make a function scalable. i.e. in case we need to increase/decrease the number of inputs to a function/method and we are using args, kwargs as input to the function, we need not change the function to suit additional/less number of arguments.\n",
    "\n",
    "### Rule when passing normal/arg/kwarg argument is they are passed in the order - 1st Normal, then args, then kwargs. i.e. \n",
    "* def my_function(normal, *args, **kwargs):\n",
    "\n",
    "### E.g. (pls see below example with variable number of inputs.)"
   ]
  },
  {
   "cell_type": "code",
   "execution_count": 31,
   "id": "8da3f427",
   "metadata": {},
   "outputs": [
    {
     "name": "stdout",
     "output_type": "stream",
     "text": [
      "<class 'tuple'>: ('Ram', 'Sita')\n",
      "Ram\n",
      "Sita\n",
      "\n",
      "\n",
      "<class 'tuple'>: ('Ram', 'Sita', 'Laxman', 'Urmila')\n",
      "Ram\n",
      "Sita\n",
      "Laxman\n",
      "Urmila\n",
      "\n",
      "\n"
     ]
    }
   ],
   "source": [
    "def basic_args_kwargs(*args):\n",
    "    print(f'{type(args)}: {args}')\n",
    "    for i in args:\n",
    "        print(i)\n",
    "    print(\"\\n\")\n",
    "\n",
    "basic_args_kwargs(\"Ram\",\"Sita\")\n",
    "basic_args_kwargs(\"Ram\",\"Sita\",\"Laxman\",\"Urmila\")"
   ]
  },
  {
   "cell_type": "code",
   "execution_count": 8,
   "id": "d441340d",
   "metadata": {},
   "outputs": [
    {
     "name": "stdout",
     "output_type": "stream",
     "text": [
      "7.333333333333333\n"
     ]
    }
   ],
   "source": [
    "def find_average(a, b, c=10):\n",
    "    print((a+b+c)/3)\n",
    "\n",
    "find_average(9,11,2)"
   ]
  },
  {
   "cell_type": "markdown",
   "id": "285d12a0",
   "metadata": {},
   "source": [
    "#   1. *args"
   ]
  },
  {
   "cell_type": "code",
   "execution_count": 24,
   "id": "cf1ef711",
   "metadata": {},
   "outputs": [
    {
     "name": "stdout",
     "output_type": "stream",
     "text": [
      "value of arg (pravin) is: (9, 11, 2).\n",
      "Also, its data-type is <class 'tuple'>.\n",
      "\n",
      "9\n",
      "11\n",
      "2\n",
      "7.333333333333333\n"
     ]
    }
   ],
   "source": [
    "# *args pass all arguments at once as a tuple. i.e. in below example the value passed will be (9,11,2) as a tuple.\n",
    "\n",
    "def find_average(*pravin):                  # norm is *args but it is not necessary. we can name it anything preceded with a (*).\n",
    "    sum = 0\n",
    "    print(f'value of arg (pravin) is: {pravin}.\\nAlso, its data-type is {type(pravin)}.\\n')\n",
    "\n",
    "    for i in pravin:\n",
    "        sum += i\n",
    "        print(i)\n",
    "    print(sum/len(pravin))\n",
    "\n",
    "find_average(9,11,2)"
   ]
  },
  {
   "cell_type": "code",
   "execution_count": 26,
   "id": "b5368700",
   "metadata": {},
   "outputs": [
    {
     "name": "stdout",
     "output_type": "stream",
     "text": [
      "value of arg (pravin2) is: ([9, 11, 2],).\n",
      "Also, its data-type is <class 'tuple'>.\n",
      "\n",
      "value of arg (pravin3) is: (9, 11, 2).\n",
      "Also, its data-type is <class 'tuple'>.\n",
      "\n"
     ]
    }
   ],
   "source": [
    "# Can we pass list as an argument directly to above function with *args as argument?\n",
    "# E.g. find_average(9,11,2)\n",
    "# we surely can pass the list (e.g. below). However that will be stored as tuple of a sinfle list.\n",
    "# However, This will cause error lateron, as args/pravin value will be a tuple of list and for loop is expecting int/float data type.\n",
    "\n",
    "def find_average(*pravin2):                  # norm is *args but it is not necessary. we can name it anything preceded with a (*).\n",
    "    sum = 0\n",
    "    print(f'value of arg (pravin2) is: {pravin2}.\\nAlso, its data-type is {type(pravin2)}.\\n')\n",
    "\n",
    "find_average([9,11,2])\n",
    "\n",
    "# Another way to pass the list without it converting to tuple of list instead of tuple of num argument is as follow:\n",
    "def find_average(*pravin3):                  # norm is *args but it is not necessary. we can name it anything preceded with a (*).\n",
    "    sum = 0\n",
    "    print(f'value of arg (pravin3) is: {pravin3}.\\nAlso, its data-type is {type(pravin3)}.\\n')\n",
    "\n",
    "list1 = [9,11,2]\n",
    "find_average(*list1)\n",
    "\n"
   ]
  },
  {
   "cell_type": "markdown",
   "id": "a6b095ef",
   "metadata": {},
   "source": [
    "# 2. **kwargs"
   ]
  },
  {
   "cell_type": "code",
   "execution_count": 28,
   "id": "8183b2d2",
   "metadata": {},
   "outputs": [
    {
     "name": "stdout",
     "output_type": "stream",
     "text": [
      "value of kwarg (kaushal) is: {'first': 9, 'second': 11, 'third': 1}.\n",
      "Also, its data-type is <class 'dict'>.\n",
      "\n",
      "first 9\n",
      "second 11\n",
      "third 1\n",
      "Average of given numbers is: 7.0\n"
     ]
    }
   ],
   "source": [
    "# **kwargs pass the argument=value pair as dictionary to the function.\n",
    "\n",
    "def find_average(**kaushal):\n",
    "    sum = 0\n",
    "    print(f'value of kwarg (kaushal) is: {kaushal}.\\nAlso, its data-type is {type(kaushal)}.\\n')\n",
    "\n",
    "    for i in kaushal:\n",
    "        sum += kaushal[i]\n",
    "        print(i, kaushal[i])\n",
    "    print(f'Average of given numbers is: {sum/len(kaushal)}')\n",
    "\n",
    "find_average(first=9, second=11, third=1)"
   ]
  },
  {
   "cell_type": "code",
   "execution_count": 35,
   "id": "d26b5e6f",
   "metadata": {},
   "outputs": [
    {
     "name": "stdout",
     "output_type": "stream",
     "text": [
      "<class 'dict'>: {'Ram': 'Sita'}\n",
      "Sita is the wife of Ram.\n",
      "\n",
      "\n",
      "<class 'dict'>: {'Ram': 'Sita', 'Laxman': 'Urmila', 'Bharat': 'Mandavi', 'Satrughn': 'Shrutakriti'}\n",
      "Sita is the wife of Ram.\n",
      "Urmila is the wife of Laxman.\n",
      "Mandavi is the wife of Bharat.\n",
      "Shrutakriti is the wife of Satrughn.\n",
      "\n",
      "\n"
     ]
    }
   ],
   "source": [
    "def basic_kwargs(**kwargs):\n",
    "    print(f'{type(kwargs)}: {kwargs}')\n",
    "    for key,value in kwargs.items():\n",
    "        print(f'{value} is the wife of {key}.')\n",
    "    print(\"\\n\")\n",
    "\n",
    "basic_kwargs(Ram=\"Sita\")\n",
    "\n",
    "dict1 = {\"Ram\":\"Sita\",\"Laxman\":\"Urmila\", \"Bharat\":\"Mandavi\", \"Satrughn\":\"Shrutakriti\"}\n",
    "basic_kwargs(**dict1)"
   ]
  },
  {
   "cell_type": "code",
   "execution_count": 46,
   "id": "5be4d8cf",
   "metadata": {},
   "outputs": [
    {
     "name": "stdout",
     "output_type": "stream",
     "text": [
      "<class 'tuple'>: ('Sita', 'Urmila', 'Mandavi', 'Shrutakriti')\n",
      "<class 'tuple'>: ('Ram', 'Laxman', 'Bharat', 'Satrughn')\n",
      "<class 'tuple'>: (('Ram', 'Sita'), ('Laxman', 'Urmila'), ('Bharat', 'Mandavi'), ('Satrughn', 'Shrutakriti'))\n"
     ]
    }
   ],
   "source": [
    "def basic_kwargs(*kwargs):\n",
    "    print(f'{type(kwargs)}: {kwargs}')\n",
    "    # for key,value in kwargs.items():\n",
    "    #     print(f'{value} is the wife of {key}.')\n",
    "    # print(\"\\n\")\n",
    "\n",
    "# basic_kwargs(Ram=\"Sita\")                            # Causes error as we can't pass keyword=value as *arg. We need **kwarg to pass this (see above example).\n",
    "\n",
    "dict1 = {\"Ram\":\"Sita\",\"Laxman\":\"Urmila\", \"Bharat\":\"Mandavi\", \"Satrughn\":\"Shrutakriti\"}\n",
    "basic_kwargs(*dict1.values())\n",
    "basic_kwargs(*dict1.keys())\n",
    "basic_kwargs(*dict1.items())"
   ]
  },
  {
   "cell_type": "code",
   "execution_count": 55,
   "id": "20769055",
   "metadata": {},
   "outputs": [
    {
     "name": "stdout",
     "output_type": "stream",
     "text": [
      "Nothing was passed.\n",
      "\n",
      "normal and kwarg was passed.\n",
      "Sita is wife of Ram\n"
     ]
    }
   ],
   "source": [
    "# *arg and **kwarg are completely optional. Even if we don't pass any value for them there won't be any error whatsoever. \n",
    "# However for normal arguments we must pass a value (at least default value must be provided to not get error).\n",
    "# we can pass all normal/*arg/**kwarg or mix of any 1 or more type of arguments. However, they must be in order (E.g. normal then args then kwargs)\n",
    "\n",
    "def example_diff_args (normal, *args, **kwargs):\n",
    "    print(\"Nothing was passed.\\n\")\n",
    "# example_diff_args()                                 # Will cause error as we may not provide value for args and kwargs, but must provide value to normal variables.\n",
    "example_diff_args(5)                                # Will not cause error as we are providing value to normal variables (at least).\n",
    "\n",
    "\n",
    "def example_diff_args2 (normal, *args, **kwargs):\n",
    "    print(\"normal and kwarg was passed.\")\n",
    "    for key,value in kwargs.items():\n",
    "        print(f\"{value} is wife of {key}\")\n",
    "example_diff_args2(5, Ram=\"Sita\")                                # we are providing value to normal variables and **kwarg.\n",
    "\n",
    "\n"
   ]
  }
 ],
 "metadata": {
  "kernelspec": {
   "display_name": "Python 3",
   "language": "python",
   "name": "python3"
  },
  "language_info": {
   "codemirror_mode": {
    "name": "ipython",
    "version": 3
   },
   "file_extension": ".py",
   "mimetype": "text/x-python",
   "name": "python",
   "nbconvert_exporter": "python",
   "pygments_lexer": "ipython3",
   "version": "3.12.0"
  }
 },
 "nbformat": 4,
 "nbformat_minor": 5
}
