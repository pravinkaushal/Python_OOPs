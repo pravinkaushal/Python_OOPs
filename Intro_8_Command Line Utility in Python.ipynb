{
 "cells": [
  {
   "cell_type": "markdown",
   "id": "d9251ce5",
   "metadata": {},
   "source": [
    "# Video 85: argparse module\n"
   ]
  },
  {
   "cell_type": "code",
   "execution_count": null,
   "id": "9a126634",
   "metadata": {},
   "outputs": [],
   "source": []
  },
  {
   "cell_type": "code",
   "execution_count": null,
   "id": "1bb0b9ae",
   "metadata": {},
   "outputs": [],
   "source": []
  }
 ],
 "metadata": {
  "language_info": {
   "name": "python"
  }
 },
 "nbformat": 4,
 "nbformat_minor": 5
}
